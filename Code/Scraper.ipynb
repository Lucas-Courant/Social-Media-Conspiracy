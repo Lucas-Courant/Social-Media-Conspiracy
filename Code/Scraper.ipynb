{
 "cells": [
  {
   "cell_type": "code",
   "execution_count": 1,
   "metadata": {
    "ExecuteTime": {
     "end_time": "2021-05-14T18:51:15.982652Z",
     "start_time": "2021-05-14T18:51:15.234778Z"
    }
   },
   "outputs": [],
   "source": [
    "import pandas as pd\n",
    "from pprint import pprint\n",
    "import requests\n",
    "import praw\n",
    "import time"
   ]
  },
  {
   "cell_type": "markdown",
   "metadata": {},
   "source": [
    "## Overview\n",
    "In this notebook I use pushshift api and PRAW to gather close to 20,000 entries from the \"critical shower thoughts\" and \"explain like I'm five\" subreddits."
   ]
  },
  {
   "cell_type": "markdown",
   "metadata": {},
   "source": [
    "**Pulling from Critical Shower Thoughts**\n",
    "\n",
    "To get the post from the Critical Shower Thoughts subreddit I reran this code manually until I had enough data. I would like to standardize this code block so it only needs to run once every time this notebook is run but I did not have enough time. In total this collection process took about an hour."
   ]
  },
  {
   "cell_type": "code",
   "execution_count": 24,
   "metadata": {
    "ExecuteTime": {
     "end_time": "2021-05-14T18:57:47.040430Z",
     "start_time": "2021-05-14T18:57:47.033428Z"
    }
   },
   "outputs": [],
   "source": [
    "url = 'https://api.pushshift.io/reddit/search/submission'\n",
    "current_time = 1620842653\n",
    "posts = []\n",
    "last_post_time = current_time"
   ]
  },
  {
   "cell_type": "code",
   "execution_count": 27,
   "metadata": {
    "ExecuteTime": {
     "end_time": "2021-05-14T18:58:19.260755Z",
     "start_time": "2021-05-14T18:58:14.777472Z"
    },
    "scrolled": true
   },
   "outputs": [
    {
     "name": "stdout",
     "output_type": "stream",
     "text": [
      "0\n",
      "1\n"
     ]
    }
   ],
   "source": [
    "fields = ['created_utc', 'selftext']\n",
    "\n",
    "\n",
    "for i in range(100):\n",
    "    print(i)\n",
    "    params = {\n",
    "    'subreddit': 'C_S_T',\n",
    "    'size': 100,\n",
    "    'before': last_post_time,\n",
    "    'fields' : fields\n",
    "    }\n",
    "    \n",
    "    res = requests.get(url, params)\n",
    "    \n",
    "    [posts.append(post) for post in res.json()['data']]\n",
    "    \n",
    "    last_post_time = posts[-1]['created_utc']\n",
    "    \n",
    "    time.sleep(1.5)\n",
    "        "
   ]
  },
  {
   "cell_type": "code",
   "execution_count": 206,
   "metadata": {
    "ExecuteTime": {
     "end_time": "2021-05-14T01:46:53.021632Z",
     "start_time": "2021-05-14T01:46:52.934859Z"
    }
   },
   "outputs": [],
   "source": [
    "cst_df = pd.DataFrame(posts)\n",
    "\n",
    "cst_df['target'] = 'cst'\n",
    "\n",
    "# commented so I don't accidentally overwrite\n",
    "\n",
    "# cst_df.to_csv('cst_df.csv', index=False)"
   ]
  },
  {
   "cell_type": "markdown",
   "metadata": {},
   "source": [
    "**Pulling from Explain Like I'm Five**\n",
    "\n",
    "Here I am scraping only the top comment from posts with more than 20 comments. Posts with more than 10 comments typically have a thoughtfully written out post explaining how something works. Posts with less can have top comments that are short or poorly written. I reran the loop manually until I had enough data."
   ]
  },
  {
   "cell_type": "code",
   "execution_count": 7,
   "metadata": {
    "ExecuteTime": {
     "end_time": "2021-05-14T18:52:12.638003Z",
     "start_time": "2021-05-14T18:52:12.560824Z"
    }
   },
   "outputs": [],
   "source": [
    "reddit = praw.Reddit(\n",
    "    client_id = 'mAzFWiInWHBwSQ',\n",
    "    client_secret = 'fzQeRPrERWVPJClQ8oU_h2fMsjV6AQ',\n",
    "    password = 'reddit2357UKL',\n",
    "    username = 'onwhodoyoudovoodoo',\n",
    "    user_agent = '/u/onwhodoyoudovoodoo.personal_api_for_learning_python:project_3:v0.0.1'\n",
    ")\n",
    "\n",
    "eli5 = reddit.subreddit('explainlikeimfive')"
   ]
  },
  {
   "cell_type": "code",
   "execution_count": 226,
   "metadata": {
    "ExecuteTime": {
     "end_time": "2021-05-14T02:07:55.258573Z",
     "start_time": "2021-05-14T02:07:55.242570Z"
    }
   },
   "outputs": [],
   "source": [
    "current_time = 1620842653\n",
    "last_post_time = current_time\n",
    "eli5_lst = []"
   ]
  },
  {
   "cell_type": "code",
   "execution_count": 29,
   "metadata": {
    "ExecuteTime": {
     "end_time": "2021-05-14T19:08:28.101701Z",
     "start_time": "2021-05-14T19:08:13.664383Z"
    }
   },
   "outputs": [],
   "source": [
    "url = 'https://api.pushshift.io/reddit/search/submission'\n",
    "for i in range(100):\n",
    "    \n",
    "    # get and filter posts using pushshift\n",
    "    params = {\n",
    "    'subreddit': 'explainlikeimfive',\n",
    "    'size': 100,\n",
    "    'before': last_post_time,\n",
    "    }\n",
    "    \n",
    "    res = requests.get(url, params)\n",
    "    data = res.json()\n",
    "    posts = data['data']\n",
    "    \n",
    "    for post in posts:\n",
    "        \n",
    "        if post['num_comments'] > 10:\n",
    "            # get top comment using PRAW\n",
    "            submission = reddit.submission(id=post['id'])\n",
    "            # try except because if top comment was deleted\n",
    "            # it would break code\n",
    "            try:\n",
    "                if submission.comments[0].stickied:\n",
    "                    eli5_lst.append({'created_utc': submission.comments[1].created_utc,\n",
    "                                     'selftext': submission.comments[1].body,\n",
    "                                     'target': 'eli5'})\n",
    "                else:\n",
    "                    eli5_lst.append({'created_utc': submission.comments[0].created_utc,\n",
    "                                     'selftext': submission.comments[0].body,\n",
    "                                     'target': 'eli5'})\n",
    "            except:\n",
    "                pass\n",
    "            \n",
    "last_post_time = posts[-1]['created_utc']"
   ]
  },
  {
   "cell_type": "code",
   "execution_count": 286,
   "metadata": {
    "ExecuteTime": {
     "end_time": "2021-05-14T05:28:09.568920Z",
     "start_time": "2021-05-14T05:28:09.544915Z"
    }
   },
   "outputs": [],
   "source": [
    "eli5_df = pd.DataFrame(eli5_lst).drop(columns='id')\n",
    "\n",
    "# commented so I don't accidentally overwrite\n",
    "\n",
    "# eli5_df.to_csv('eli5_df.csv', index=False)"
   ]
  },
  {
   "cell_type": "markdown",
   "metadata": {},
   "source": [
    "## Next Step\n",
    "\n",
    "Next I perform EDA and feature extraction on these datasets in the data_cleaning notebook."
   ]
  }
 ],
 "metadata": {
  "kernelspec": {
   "display_name": "Python 3",
   "language": "python",
   "name": "python3"
  },
  "language_info": {
   "codemirror_mode": {
    "name": "ipython",
    "version": 3
   },
   "file_extension": ".py",
   "mimetype": "text/x-python",
   "name": "python",
   "nbconvert_exporter": "python",
   "pygments_lexer": "ipython3",
   "version": "3.8.5"
  }
 },
 "nbformat": 4,
 "nbformat_minor": 4
}
