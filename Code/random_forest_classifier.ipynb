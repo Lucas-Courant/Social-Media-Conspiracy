{
 "cells": [
  {
   "cell_type": "code",
   "execution_count": 1,
   "metadata": {
    "ExecuteTime": {
     "end_time": "2021-05-21T13:33:55.360461Z",
     "start_time": "2021-05-21T13:33:51.804181Z"
    }
   },
   "outputs": [],
   "source": [
    "import pandas as pd\n",
    "from sklearn.model_selection import train_test_split, StratifiedKFold,\\\n",
    "                                    GridSearchCV\n",
    "from sklearn.ensemble import RandomForestClassifier\n",
    "from sklearn.inspection import permutation_importance\n",
    "import matplotlib.pyplot as plt"
   ]
  },
  {
   "cell_type": "markdown",
   "metadata": {},
   "source": [
    "# Problem Statement\n",
    "\n",
    "This project aims to create an automated model that can differentiate conspiracy theories from factual posts and describe those differences based on grammar in order to maintain public image and prevent user exodus for smaller social media sites. Using a machine learning model to flag posts that are likely conspiracy has a huge cost advantage over paying people to monitor all posts manually."
   ]
  },
  {
   "cell_type": "code",
   "execution_count": 2,
   "metadata": {
    "ExecuteTime": {
     "end_time": "2021-05-21T13:33:55.628661Z",
     "start_time": "2021-05-21T13:33:55.361460Z"
    }
   },
   "outputs": [],
   "source": [
    "df = pd.read_csv('../Data/master_df.csv')"
   ]
  },
  {
   "cell_type": "code",
   "execution_count": 3,
   "metadata": {
    "ExecuteTime": {
     "end_time": "2021-05-21T13:33:55.644669Z",
     "start_time": "2021-05-21T13:33:55.629661Z"
    }
   },
   "outputs": [
    {
     "data": {
      "text/plain": [
       "0.5080271138066357"
      ]
     },
     "execution_count": 3,
     "metadata": {},
     "output_type": "execute_result"
    }
   ],
   "source": [
    "1 - df['is_conspiracy'].mean()"
   ]
  },
  {
   "cell_type": "markdown",
   "metadata": {},
   "source": [
    "**Interpretation:** This is the baseline accuracy I need to beat."
   ]
  },
  {
   "cell_type": "code",
   "execution_count": 4,
   "metadata": {
    "ExecuteTime": {
     "end_time": "2021-05-21T13:33:55.659674Z",
     "start_time": "2021-05-21T13:33:55.645669Z"
    }
   },
   "outputs": [],
   "source": [
    "just_pos = df.drop(columns=['text', 'is_conspiracy', 'X'])\n",
    "\n",
    "y = df['is_conspiracy']\n",
    "X = just_pos\n",
    "X_train, X_test, y_train, y_test = train_test_split(X, y,\n",
    "                                                    stratify = y,\n",
    "                                                    random_state = 42)"
   ]
  },
  {
   "cell_type": "code",
   "execution_count": 5,
   "metadata": {
    "ExecuteTime": {
     "end_time": "2021-05-21T13:34:03.441555Z",
     "start_time": "2021-05-21T13:34:03.433553Z"
    }
   },
   "outputs": [
    {
     "data": {
      "text/plain": [
       "(12613, 19)"
      ]
     },
     "execution_count": 5,
     "metadata": {},
     "output_type": "execute_result"
    }
   ],
   "source": [
    "X_train.shape"
   ]
  },
  {
   "cell_type": "code",
   "execution_count": 131,
   "metadata": {
    "ExecuteTime": {
     "end_time": "2021-05-21T05:20:53.818783Z",
     "start_time": "2021-05-21T05:20:16.432419Z"
    }
   },
   "outputs": [
    {
     "name": "stdout",
     "output_type": "stream",
     "text": [
      "0.87918 ± 0.00492\n"
     ]
    }
   ],
   "source": [
    "folds = StratifiedKFold(shuffle = True, random_state=42)\n",
    "\n",
    "params = {\n",
    "    'n_estimators': [90, 100, 110],\n",
    "    'max_depth': [5, 6, 7],\n",
    "    'min_samples_split': [8, 10, 12],\n",
    "    'n_jobs': [-1]\n",
    "}\n",
    "\n",
    "gs = GridSearchCV(RandomForestClassifier(), param_grid=params, cv = folds,\n",
    "                  return_train_score=True)\n",
    "gs.fit(X, y)\n",
    "\n",
    "std_dev = gs.cv_results_['std_test_score'][0].round(5)\n",
    "\n",
    "print('{} \\u00B1 {}'.format(gs.best_score_.round(5), std_dev))"
   ]
  },
  {
   "cell_type": "markdown",
   "metadata": {},
   "source": [
    "**Interpretation:** This score only tells me how I did on unseen data. Below I assess performance on training data to evaluate the bias variance trade off."
   ]
  },
  {
   "cell_type": "code",
   "execution_count": 118,
   "metadata": {
    "ExecuteTime": {
     "end_time": "2021-05-21T00:11:57.228645Z",
     "start_time": "2021-05-21T00:11:57.192637Z"
    }
   },
   "outputs": [
    {
     "name": "stdout",
     "output_type": "stream",
     "text": [
      "0.0053073512537686884 {'max_depth': 5, 'min_samples_split': 10, 'n_estimators': 110, 'n_jobs': -1} 5\n"
     ]
    },
    {
     "data": {
      "text/html": [
       "<div>\n",
       "<style scoped>\n",
       "    .dataframe tbody tr th:only-of-type {\n",
       "        vertical-align: middle;\n",
       "    }\n",
       "\n",
       "    .dataframe tbody tr th {\n",
       "        vertical-align: top;\n",
       "    }\n",
       "\n",
       "    .dataframe thead th {\n",
       "        text-align: right;\n",
       "    }\n",
       "</style>\n",
       "<table border=\"1\" class=\"dataframe\">\n",
       "  <thead>\n",
       "    <tr style=\"text-align: right;\">\n",
       "      <th></th>\n",
       "      <th>params</th>\n",
       "      <th>mean_test_score</th>\n",
       "      <th>std_test_score</th>\n",
       "      <th>mean_train_score</th>\n",
       "      <th>std_train_score</th>\n",
       "    </tr>\n",
       "  </thead>\n",
       "  <tbody>\n",
       "    <tr>\n",
       "      <th>0</th>\n",
       "      <td>{'max_depth': 5, 'min_samples_split': 8, 'n_es...</td>\n",
       "      <td>0.870852</td>\n",
       "      <td>0.008854</td>\n",
       "      <td>0.876635</td>\n",
       "      <td>0.000920</td>\n",
       "    </tr>\n",
       "    <tr>\n",
       "      <th>1</th>\n",
       "      <td>{'max_depth': 5, 'min_samples_split': 8, 'n_es...</td>\n",
       "      <td>0.871922</td>\n",
       "      <td>0.006434</td>\n",
       "      <td>0.879222</td>\n",
       "      <td>0.001585</td>\n",
       "    </tr>\n",
       "    <tr>\n",
       "      <th>2</th>\n",
       "      <td>{'max_depth': 5, 'min_samples_split': 8, 'n_es...</td>\n",
       "      <td>0.871090</td>\n",
       "      <td>0.006117</td>\n",
       "      <td>0.877126</td>\n",
       "      <td>0.002154</td>\n",
       "    </tr>\n",
       "    <tr>\n",
       "      <th>3</th>\n",
       "      <td>{'max_depth': 5, 'min_samples_split': 10, 'n_e...</td>\n",
       "      <td>0.869068</td>\n",
       "      <td>0.006433</td>\n",
       "      <td>0.876100</td>\n",
       "      <td>0.002279</td>\n",
       "    </tr>\n",
       "    <tr>\n",
       "      <th>4</th>\n",
       "      <td>{'max_depth': 5, 'min_samples_split': 10, 'n_e...</td>\n",
       "      <td>0.869128</td>\n",
       "      <td>0.006412</td>\n",
       "      <td>0.875684</td>\n",
       "      <td>0.002421</td>\n",
       "    </tr>\n",
       "    <tr>\n",
       "      <th>5</th>\n",
       "      <td>{'max_depth': 5, 'min_samples_split': 10, 'n_e...</td>\n",
       "      <td>0.871328</td>\n",
       "      <td>0.007120</td>\n",
       "      <td>0.876635</td>\n",
       "      <td>0.002540</td>\n",
       "    </tr>\n",
       "    <tr>\n",
       "      <th>6</th>\n",
       "      <td>{'max_depth': 5, 'min_samples_split': 12, 'n_e...</td>\n",
       "      <td>0.870198</td>\n",
       "      <td>0.009551</td>\n",
       "      <td>0.877230</td>\n",
       "      <td>0.000745</td>\n",
       "    </tr>\n",
       "    <tr>\n",
       "      <th>7</th>\n",
       "      <td>{'max_depth': 5, 'min_samples_split': 12, 'n_e...</td>\n",
       "      <td>0.869068</td>\n",
       "      <td>0.006945</td>\n",
       "      <td>0.876442</td>\n",
       "      <td>0.002287</td>\n",
       "    </tr>\n",
       "    <tr>\n",
       "      <th>8</th>\n",
       "      <td>{'max_depth': 5, 'min_samples_split': 12, 'n_e...</td>\n",
       "      <td>0.871447</td>\n",
       "      <td>0.006366</td>\n",
       "      <td>0.876962</td>\n",
       "      <td>0.001664</td>\n",
       "    </tr>\n",
       "    <tr>\n",
       "      <th>9</th>\n",
       "      <td>{'max_depth': 6, 'min_samples_split': 8, 'n_es...</td>\n",
       "      <td>0.876917</td>\n",
       "      <td>0.006275</td>\n",
       "      <td>0.887055</td>\n",
       "      <td>0.002417</td>\n",
       "    </tr>\n",
       "    <tr>\n",
       "      <th>10</th>\n",
       "      <td>{'max_depth': 6, 'min_samples_split': 8, 'n_es...</td>\n",
       "      <td>0.875668</td>\n",
       "      <td>0.007771</td>\n",
       "      <td>0.887962</td>\n",
       "      <td>0.002179</td>\n",
       "    </tr>\n",
       "    <tr>\n",
       "      <th>11</th>\n",
       "      <td>{'max_depth': 6, 'min_samples_split': 8, 'n_es...</td>\n",
       "      <td>0.874301</td>\n",
       "      <td>0.006684</td>\n",
       "      <td>0.886074</td>\n",
       "      <td>0.002346</td>\n",
       "    </tr>\n",
       "    <tr>\n",
       "      <th>12</th>\n",
       "      <td>{'max_depth': 6, 'min_samples_split': 10, 'n_e...</td>\n",
       "      <td>0.873349</td>\n",
       "      <td>0.005358</td>\n",
       "      <td>0.886892</td>\n",
       "      <td>0.002770</td>\n",
       "    </tr>\n",
       "    <tr>\n",
       "      <th>13</th>\n",
       "      <td>{'max_depth': 6, 'min_samples_split': 10, 'n_e...</td>\n",
       "      <td>0.875074</td>\n",
       "      <td>0.005185</td>\n",
       "      <td>0.887219</td>\n",
       "      <td>0.001717</td>\n",
       "    </tr>\n",
       "    <tr>\n",
       "      <th>14</th>\n",
       "      <td>{'max_depth': 6, 'min_samples_split': 10, 'n_e...</td>\n",
       "      <td>0.875074</td>\n",
       "      <td>0.007092</td>\n",
       "      <td>0.886624</td>\n",
       "      <td>0.001339</td>\n",
       "    </tr>\n",
       "    <tr>\n",
       "      <th>15</th>\n",
       "      <td>{'max_depth': 6, 'min_samples_split': 12, 'n_e...</td>\n",
       "      <td>0.877274</td>\n",
       "      <td>0.006451</td>\n",
       "      <td>0.887011</td>\n",
       "      <td>0.001593</td>\n",
       "    </tr>\n",
       "    <tr>\n",
       "      <th>16</th>\n",
       "      <td>{'max_depth': 6, 'min_samples_split': 12, 'n_e...</td>\n",
       "      <td>0.876085</td>\n",
       "      <td>0.006862</td>\n",
       "      <td>0.888378</td>\n",
       "      <td>0.002339</td>\n",
       "    </tr>\n",
       "    <tr>\n",
       "      <th>17</th>\n",
       "      <td>{'max_depth': 6, 'min_samples_split': 12, 'n_e...</td>\n",
       "      <td>0.876322</td>\n",
       "      <td>0.007516</td>\n",
       "      <td>0.887680</td>\n",
       "      <td>0.002486</td>\n",
       "    </tr>\n",
       "    <tr>\n",
       "      <th>18</th>\n",
       "      <td>{'max_depth': 7, 'min_samples_split': 8, 'n_es...</td>\n",
       "      <td>0.877928</td>\n",
       "      <td>0.005180</td>\n",
       "      <td>0.897714</td>\n",
       "      <td>0.002282</td>\n",
       "    </tr>\n",
       "    <tr>\n",
       "      <th>19</th>\n",
       "      <td>{'max_depth': 7, 'min_samples_split': 8, 'n_es...</td>\n",
       "      <td>0.879831</td>\n",
       "      <td>0.006441</td>\n",
       "      <td>0.898442</td>\n",
       "      <td>0.001936</td>\n",
       "    </tr>\n",
       "    <tr>\n",
       "      <th>20</th>\n",
       "      <td>{'max_depth': 7, 'min_samples_split': 8, 'n_es...</td>\n",
       "      <td>0.879593</td>\n",
       "      <td>0.006166</td>\n",
       "      <td>0.897684</td>\n",
       "      <td>0.001319</td>\n",
       "    </tr>\n",
       "    <tr>\n",
       "      <th>21</th>\n",
       "      <td>{'max_depth': 7, 'min_samples_split': 10, 'n_e...</td>\n",
       "      <td>0.879295</td>\n",
       "      <td>0.006610</td>\n",
       "      <td>0.897550</td>\n",
       "      <td>0.001867</td>\n",
       "    </tr>\n",
       "    <tr>\n",
       "      <th>22</th>\n",
       "      <td>{'max_depth': 7, 'min_samples_split': 10, 'n_e...</td>\n",
       "      <td>0.880128</td>\n",
       "      <td>0.006363</td>\n",
       "      <td>0.898680</td>\n",
       "      <td>0.001195</td>\n",
       "    </tr>\n",
       "    <tr>\n",
       "      <th>23</th>\n",
       "      <td>{'max_depth': 7, 'min_samples_split': 10, 'n_e...</td>\n",
       "      <td>0.878701</td>\n",
       "      <td>0.005626</td>\n",
       "      <td>0.898398</td>\n",
       "      <td>0.001821</td>\n",
       "    </tr>\n",
       "    <tr>\n",
       "      <th>24</th>\n",
       "      <td>{'max_depth': 7, 'min_samples_split': 12, 'n_e...</td>\n",
       "      <td>0.878284</td>\n",
       "      <td>0.006344</td>\n",
       "      <td>0.897684</td>\n",
       "      <td>0.002342</td>\n",
       "    </tr>\n",
       "    <tr>\n",
       "      <th>25</th>\n",
       "      <td>{'max_depth': 7, 'min_samples_split': 12, 'n_e...</td>\n",
       "      <td>0.879771</td>\n",
       "      <td>0.006765</td>\n",
       "      <td>0.897208</td>\n",
       "      <td>0.001979</td>\n",
       "    </tr>\n",
       "    <tr>\n",
       "      <th>26</th>\n",
       "      <td>{'max_depth': 7, 'min_samples_split': 12, 'n_e...</td>\n",
       "      <td>0.879057</td>\n",
       "      <td>0.006094</td>\n",
       "      <td>0.898070</td>\n",
       "      <td>0.001272</td>\n",
       "    </tr>\n",
       "  </tbody>\n",
       "</table>\n",
       "</div>"
      ],
      "text/plain": [
       "                                               params  mean_test_score  \\\n",
       "0   {'max_depth': 5, 'min_samples_split': 8, 'n_es...         0.870852   \n",
       "1   {'max_depth': 5, 'min_samples_split': 8, 'n_es...         0.871922   \n",
       "2   {'max_depth': 5, 'min_samples_split': 8, 'n_es...         0.871090   \n",
       "3   {'max_depth': 5, 'min_samples_split': 10, 'n_e...         0.869068   \n",
       "4   {'max_depth': 5, 'min_samples_split': 10, 'n_e...         0.869128   \n",
       "5   {'max_depth': 5, 'min_samples_split': 10, 'n_e...         0.871328   \n",
       "6   {'max_depth': 5, 'min_samples_split': 12, 'n_e...         0.870198   \n",
       "7   {'max_depth': 5, 'min_samples_split': 12, 'n_e...         0.869068   \n",
       "8   {'max_depth': 5, 'min_samples_split': 12, 'n_e...         0.871447   \n",
       "9   {'max_depth': 6, 'min_samples_split': 8, 'n_es...         0.876917   \n",
       "10  {'max_depth': 6, 'min_samples_split': 8, 'n_es...         0.875668   \n",
       "11  {'max_depth': 6, 'min_samples_split': 8, 'n_es...         0.874301   \n",
       "12  {'max_depth': 6, 'min_samples_split': 10, 'n_e...         0.873349   \n",
       "13  {'max_depth': 6, 'min_samples_split': 10, 'n_e...         0.875074   \n",
       "14  {'max_depth': 6, 'min_samples_split': 10, 'n_e...         0.875074   \n",
       "15  {'max_depth': 6, 'min_samples_split': 12, 'n_e...         0.877274   \n",
       "16  {'max_depth': 6, 'min_samples_split': 12, 'n_e...         0.876085   \n",
       "17  {'max_depth': 6, 'min_samples_split': 12, 'n_e...         0.876322   \n",
       "18  {'max_depth': 7, 'min_samples_split': 8, 'n_es...         0.877928   \n",
       "19  {'max_depth': 7, 'min_samples_split': 8, 'n_es...         0.879831   \n",
       "20  {'max_depth': 7, 'min_samples_split': 8, 'n_es...         0.879593   \n",
       "21  {'max_depth': 7, 'min_samples_split': 10, 'n_e...         0.879295   \n",
       "22  {'max_depth': 7, 'min_samples_split': 10, 'n_e...         0.880128   \n",
       "23  {'max_depth': 7, 'min_samples_split': 10, 'n_e...         0.878701   \n",
       "24  {'max_depth': 7, 'min_samples_split': 12, 'n_e...         0.878284   \n",
       "25  {'max_depth': 7, 'min_samples_split': 12, 'n_e...         0.879771   \n",
       "26  {'max_depth': 7, 'min_samples_split': 12, 'n_e...         0.879057   \n",
       "\n",
       "    std_test_score  mean_train_score  std_train_score  \n",
       "0         0.008854          0.876635         0.000920  \n",
       "1         0.006434          0.879222         0.001585  \n",
       "2         0.006117          0.877126         0.002154  \n",
       "3         0.006433          0.876100         0.002279  \n",
       "4         0.006412          0.875684         0.002421  \n",
       "5         0.007120          0.876635         0.002540  \n",
       "6         0.009551          0.877230         0.000745  \n",
       "7         0.006945          0.876442         0.002287  \n",
       "8         0.006366          0.876962         0.001664  \n",
       "9         0.006275          0.887055         0.002417  \n",
       "10        0.007771          0.887962         0.002179  \n",
       "11        0.006684          0.886074         0.002346  \n",
       "12        0.005358          0.886892         0.002770  \n",
       "13        0.005185          0.887219         0.001717  \n",
       "14        0.007092          0.886624         0.001339  \n",
       "15        0.006451          0.887011         0.001593  \n",
       "16        0.006862          0.888378         0.002339  \n",
       "17        0.007516          0.887680         0.002486  \n",
       "18        0.005180          0.897714         0.002282  \n",
       "19        0.006441          0.898442         0.001936  \n",
       "20        0.006166          0.897684         0.001319  \n",
       "21        0.006610          0.897550         0.001867  \n",
       "22        0.006363          0.898680         0.001195  \n",
       "23        0.005626          0.898398         0.001821  \n",
       "24        0.006344          0.897684         0.002342  \n",
       "25        0.006765          0.897208         0.001979  \n",
       "26        0.006094          0.898070         0.001272  "
      ]
     },
     "execution_count": 118,
     "metadata": {},
     "output_type": "execute_result"
    }
   ],
   "source": [
    "results = pd.DataFrame(gs.cv_results_)\n",
    "\n",
    "delta = 100\n",
    "\n",
    "for test, train, i in zip(results.mean_test_score,\n",
    "                          results.mean_train_score,\n",
    "                          results.index):\n",
    "    \n",
    "    if (train - test) < delta:\n",
    "        delta = (train - test)\n",
    "        params = results.params[i]\n",
    "        index = i\n",
    "        \n",
    "print(delta, params, index)\n",
    "\n",
    "results[['params', 'mean_test_score', 'std_test_score',\n",
    "         'mean_train_score', 'std_train_score']]"
   ]
  },
  {
   "cell_type": "markdown",
   "metadata": {
    "ExecuteTime": {
     "end_time": "2021-05-20T19:48:08.159293Z",
     "start_time": "2021-05-20T19:48:08.143289Z"
    }
   },
   "source": [
    "**Interpretation:** This table shows the change in bias and variability as the parameters change. The parameters that give me the best balance between bias and variability are 'max_depth': 5, 'min_samples_split': 10, 'n_estimators': 110"
   ]
  },
  {
   "cell_type": "code",
   "execution_count": 127,
   "metadata": {
    "ExecuteTime": {
     "end_time": "2021-05-21T05:15:59.236332Z",
     "start_time": "2021-05-21T05:15:58.953269Z"
    }
   },
   "outputs": [
    {
     "data": {
      "text/plain": [
       "(0.8786965828906683, 0.8746730083234245)"
      ]
     },
     "execution_count": 127,
     "metadata": {},
     "output_type": "execute_result"
    }
   ],
   "source": [
    "rforest = RandomForestClassifier(max_depth = 5, min_samples_split = 12,\n",
    "                                 n_estimators = 100, n_jobs = -1,\n",
    "                                 random_state=42)\n",
    "\n",
    "rforest.fit(X_train, y_train)\n",
    "\n",
    "rforest.score(X_train, y_train), rforest.score(X_test, y_test)"
   ]
  },
  {
   "cell_type": "markdown",
   "metadata": {},
   "source": [
    "**Interpretation:** These scores are close and show a significant improvement over the baseline of 50.8%. I am confident my model has low bias and variability."
   ]
  },
  {
   "cell_type": "code",
   "execution_count": 128,
   "metadata": {
    "ExecuteTime": {
     "end_time": "2021-05-21T05:18:05.199270Z",
     "start_time": "2021-05-21T05:17:56.705384Z"
    }
   },
   "outputs": [
    {
     "data": {
      "text/html": [
       "<div>\n",
       "<style scoped>\n",
       "    .dataframe tbody tr th:only-of-type {\n",
       "        vertical-align: middle;\n",
       "    }\n",
       "\n",
       "    .dataframe tbody tr th {\n",
       "        vertical-align: top;\n",
       "    }\n",
       "\n",
       "    .dataframe thead th {\n",
       "        text-align: right;\n",
       "    }\n",
       "</style>\n",
       "<table border=\"1\" class=\"dataframe\">\n",
       "  <thead>\n",
       "    <tr style=\"text-align: right;\">\n",
       "      <th></th>\n",
       "      <th>0</th>\n",
       "    </tr>\n",
       "  </thead>\n",
       "  <tbody>\n",
       "    <tr>\n",
       "      <th>QUESTION_MARKS</th>\n",
       "      <td>0.109371</td>\n",
       "    </tr>\n",
       "    <tr>\n",
       "      <th>PROPN</th>\n",
       "      <td>0.034677</td>\n",
       "    </tr>\n",
       "    <tr>\n",
       "      <th>PRON</th>\n",
       "      <td>0.009383</td>\n",
       "    </tr>\n",
       "    <tr>\n",
       "      <th>NOUN</th>\n",
       "      <td>0.008978</td>\n",
       "    </tr>\n",
       "    <tr>\n",
       "      <th>NUM</th>\n",
       "      <td>0.003579</td>\n",
       "    </tr>\n",
       "    <tr>\n",
       "      <th>CCONJ</th>\n",
       "      <td>0.001843</td>\n",
       "    </tr>\n",
       "    <tr>\n",
       "      <th>AUX</th>\n",
       "      <td>0.001724</td>\n",
       "    </tr>\n",
       "    <tr>\n",
       "      <th>ADJ</th>\n",
       "      <td>0.001594</td>\n",
       "    </tr>\n",
       "    <tr>\n",
       "      <th>ADV</th>\n",
       "      <td>0.001403</td>\n",
       "    </tr>\n",
       "    <tr>\n",
       "      <th>SPACE</th>\n",
       "      <td>0.001130</td>\n",
       "    </tr>\n",
       "    <tr>\n",
       "      <th>SCONJ</th>\n",
       "      <td>0.000844</td>\n",
       "    </tr>\n",
       "    <tr>\n",
       "      <th>EXCLAMATION_MARKS</th>\n",
       "      <td>0.000678</td>\n",
       "    </tr>\n",
       "    <tr>\n",
       "      <th>ADP</th>\n",
       "      <td>0.000416</td>\n",
       "    </tr>\n",
       "    <tr>\n",
       "      <th>PUNCT</th>\n",
       "      <td>0.000095</td>\n",
       "    </tr>\n",
       "    <tr>\n",
       "      <th>SYM</th>\n",
       "      <td>0.000048</td>\n",
       "    </tr>\n",
       "    <tr>\n",
       "      <th>PART</th>\n",
       "      <td>-0.000012</td>\n",
       "    </tr>\n",
       "    <tr>\n",
       "      <th>VERB</th>\n",
       "      <td>-0.000166</td>\n",
       "    </tr>\n",
       "    <tr>\n",
       "      <th>INTJ</th>\n",
       "      <td>-0.000190</td>\n",
       "    </tr>\n",
       "    <tr>\n",
       "      <th>DET</th>\n",
       "      <td>-0.000630</td>\n",
       "    </tr>\n",
       "  </tbody>\n",
       "</table>\n",
       "</div>"
      ],
      "text/plain": [
       "                          0\n",
       "QUESTION_MARKS     0.109371\n",
       "PROPN              0.034677\n",
       "PRON               0.009383\n",
       "NOUN               0.008978\n",
       "NUM                0.003579\n",
       "CCONJ              0.001843\n",
       "AUX                0.001724\n",
       "ADJ                0.001594\n",
       "ADV                0.001403\n",
       "SPACE              0.001130\n",
       "SCONJ              0.000844\n",
       "EXCLAMATION_MARKS  0.000678\n",
       "ADP                0.000416\n",
       "PUNCT              0.000095\n",
       "SYM                0.000048\n",
       "PART              -0.000012\n",
       "VERB              -0.000166\n",
       "INTJ              -0.000190\n",
       "DET               -0.000630"
      ]
     },
     "execution_count": 128,
     "metadata": {},
     "output_type": "execute_result"
    }
   ],
   "source": [
    "importances = permutation_importance(rforest, X, y, n_jobs=-1,\n",
    "                                     random_state=42)\n",
    "\n",
    "importance_df = pd.DataFrame(importances['importances_mean'], index=X.columns)\n",
    "\n",
    "# Don't set ascending=False here so graph in next cell formats properly\n",
    "importance_df.sort_values(by=0, inplace = True)\n",
    "\n",
    "importance_df.sort_values(by=0, ascending=False)"
   ]
  },
  {
   "cell_type": "markdown",
   "metadata": {},
   "source": [
    "**Interpretation:** This list of feature importances will help guide further analysis."
   ]
  },
  {
   "cell_type": "code",
   "execution_count": 137,
   "metadata": {
    "ExecuteTime": {
     "end_time": "2021-05-21T06:42:06.719814Z",
     "start_time": "2021-05-21T06:42:06.437750Z"
    }
   },
   "outputs": [
    {
     "data": {
      "image/png": "[encoded data removed]",
      "text/plain": [
       "<Figure size 864x576 with 1 Axes>"
      ]
     },
     "metadata": {
      "needs_background": "light"
     },
     "output_type": "display_data"
    }
   ],
   "source": [
    "plt.figure(figsize=(12,8))\n",
    "\n",
    "plt.barh(importance_df.index, importance_df[0], color='darkcyan')\n",
    "\n",
    "plt.title('Relative Feature Importances', fontsize = 20, y=1.025,\n",
    "          fontweight='bold')\n",
    "\n",
    "plt.tight_layout()\n",
    "\n",
    "plt.savefig('../Pictures/relative_feature_importances');"
   ]
  },
  {
   "cell_type": "markdown",
   "metadata": {},
   "source": [
    "\n",
    "**Interpretation:** This graph helps to visualize the relative feature importances. Question marks outclass all other features by far."
   ]
  },
  {
   "cell_type": "code",
   "execution_count": 201,
   "metadata": {
    "ExecuteTime": {
     "end_time": "2021-05-20T04:32:28.407025Z",
     "start_time": "2021-05-20T04:32:28.399023Z"
    }
   },
   "outputs": [
    {
     "data": {
      "text/plain": [
       "0.595"
      ]
     },
     "execution_count": 201,
     "metadata": {},
     "output_type": "execute_result"
    }
   ],
   "source": [
    "cnsprcy_w_qmarks = df.loc[(df.is_conspiracy == 1) &\n",
    "                         (df.question_marks != 0)].shape[0]\n",
    "\n",
    "total_cnsprcy = df.loc[df.is_conspiracy == 1].shape[0]\n",
    "\n",
    "round(cnsprcy_w_qmarks/total_cnsprcy, 3)"
   ]
  },
  {
   "cell_type": "markdown",
   "metadata": {},
   "source": [
    "**Interpretation:** 59.5% of conspiracy posts contained question marks."
   ]
  },
  {
   "cell_type": "code",
   "execution_count": 202,
   "metadata": {
    "ExecuteTime": {
     "end_time": "2021-05-20T04:32:50.842329Z",
     "start_time": "2021-05-20T04:32:50.831327Z"
    }
   },
   "outputs": [
    {
     "data": {
      "text/plain": [
       "0.088"
      ]
     },
     "execution_count": 202,
     "metadata": {},
     "output_type": "execute_result"
    }
   ],
   "source": [
    "normal_w_qmarks = df.loc[(df.is_conspiracy == 0) &\n",
    "                         (df.question_marks != 0)].shape[0]\n",
    "\n",
    "total_normal = df.loc[df.is_conspiracy == 1].shape[0]\n",
    "\n",
    "round(normal_w_qmarks/total_cnsprcy, 3)"
   ]
  },
  {
   "cell_type": "markdown",
   "metadata": {},
   "source": [
    "**Interpretation:** 8.8% percent of 'normal' posts contained question marks."
   ]
  },
  {
   "cell_type": "code",
   "execution_count": 203,
   "metadata": {
    "ExecuteTime": {
     "end_time": "2021-05-20T04:33:51.214787Z",
     "start_time": "2021-05-20T04:33:51.142771Z"
    }
   },
   "outputs": [
    {
     "data": {
      "text/html": [
       "<div>\n",
       "<style scoped>\n",
       "    .dataframe tbody tr th:only-of-type {\n",
       "        vertical-align: middle;\n",
       "    }\n",
       "\n",
       "    .dataframe tbody tr th {\n",
       "        vertical-align: top;\n",
       "    }\n",
       "\n",
       "    .dataframe thead th {\n",
       "        text-align: right;\n",
       "    }\n",
       "</style>\n",
       "<table border=\"1\" class=\"dataframe\">\n",
       "  <thead>\n",
       "    <tr style=\"text-align: right;\">\n",
       "      <th></th>\n",
       "      <th>count</th>\n",
       "      <th>mean</th>\n",
       "      <th>std</th>\n",
       "      <th>min</th>\n",
       "      <th>25%</th>\n",
       "      <th>50%</th>\n",
       "      <th>75%</th>\n",
       "      <th>max</th>\n",
       "    </tr>\n",
       "    <tr>\n",
       "      <th>is_conspiracy</th>\n",
       "      <th></th>\n",
       "      <th></th>\n",
       "      <th></th>\n",
       "      <th></th>\n",
       "      <th></th>\n",
       "      <th></th>\n",
       "      <th></th>\n",
       "      <th></th>\n",
       "    </tr>\n",
       "  </thead>\n",
       "  <tbody>\n",
       "    <tr>\n",
       "      <th>0</th>\n",
       "      <td>8544.0</td>\n",
       "      <td>0.005932</td>\n",
       "      <td>0.035613</td>\n",
       "      <td>0.0</td>\n",
       "      <td>0.0</td>\n",
       "      <td>0.000000</td>\n",
       "      <td>0.000000</td>\n",
       "      <td>1.0</td>\n",
       "    </tr>\n",
       "    <tr>\n",
       "      <th>1</th>\n",
       "      <td>8274.0</td>\n",
       "      <td>0.056666</td>\n",
       "      <td>0.108348</td>\n",
       "      <td>0.0</td>\n",
       "      <td>0.0</td>\n",
       "      <td>0.016667</td>\n",
       "      <td>0.064516</td>\n",
       "      <td>1.0</td>\n",
       "    </tr>\n",
       "  </tbody>\n",
       "</table>\n",
       "</div>"
      ],
      "text/plain": [
       "                count      mean       std  min  25%       50%       75%  max\n",
       "is_conspiracy                                                               \n",
       "0              8544.0  0.005932  0.035613  0.0  0.0  0.000000  0.000000  1.0\n",
       "1              8274.0  0.056666  0.108348  0.0  0.0  0.016667  0.064516  1.0"
      ]
     },
     "execution_count": 203,
     "metadata": {},
     "output_type": "execute_result"
    }
   ],
   "source": [
    "df.groupby('is_conspiracy').describe()['question_marks']"
   ]
  },
  {
   "cell_type": "markdown",
   "metadata": {},
   "source": [
    "**Interpretation:** More conspiracy posts use question marks and those that do tend to use them with higher frequency."
   ]
  },
  {
   "cell_type": "code",
   "execution_count": 139,
   "metadata": {
    "ExecuteTime": {
     "end_time": "2021-05-21T06:43:53.788859Z",
     "start_time": "2021-05-21T06:43:53.197643Z"
    }
   },
   "outputs": [
    {
     "data": {
      "image/png": "[encoded data removed]",
      "text/plain": [
       "<Figure size 864x432 with 2 Axes>"
      ]
     },
     "metadata": {
      "needs_background": "light"
     },
     "output_type": "display_data"
    }
   ],
   "source": [
    "fig, ax = plt.subplots(1, 2, figsize=(12, 6))\n",
    "\n",
    "ax[0].hist(df.loc[df.is_conspiracy == 1]['QUESTION_MARKS']*100,\n",
    "           bins=40, color='deeppink')\n",
    "ax[0].set_ylim(0, 5000)\n",
    "ax[0].set_title('Conspiracy Posts', fontsize=18)\n",
    "ax[0].set_xlabel('Percent of Puctuation that are Question Marks', fontsize=12)\n",
    "\n",
    "\n",
    "ax[1].hist(df.loc[df.is_conspiracy == 0]['QUESTION_MARKS']*100,\n",
    "           bins=30, color='deepskyblue')\n",
    "ax[1].set_ylim(0, 5000)\n",
    "ax[1].set_title('Factual Posts', fontsize=18)\n",
    "ax[1].set_xlabel('Percent of Punctuation that are Question Marks', fontsize=12)\n",
    "\n",
    "\n",
    "fig.suptitle('Question Marks in Text',\n",
    "             fontsize=22, fontweight='bold', y=0.99)\n",
    "fig.tight_layout()\n",
    "\n",
    "fig.savefig('../Pictures/question_marks_in_text');"
   ]
  },
  {
   "cell_type": "markdown",
   "metadata": {},
   "source": [
    "**Interpretation:** Far more conspiracy posts use question marks than normal posts. My hypothesis is that conspiracy posts tend to use open ended questions to draw readers in before offering unsubstantiated explanations. Normal posts explaining a concept tend to address a singular topic and don't need to rely on open ended questions to guide a reader around."
   ]
  },
  {
   "cell_type": "code",
   "execution_count": 198,
   "metadata": {
    "ExecuteTime": {
     "end_time": "2021-05-20T04:21:11.167336Z",
     "start_time": "2021-05-20T04:21:11.145331Z"
    }
   },
   "outputs": [
    {
     "data": {
      "text/plain": [
       "0.818"
      ]
     },
     "execution_count": 198,
     "metadata": {},
     "output_type": "execute_result"
    }
   ],
   "source": [
    "cnsprcy_w_propn = df.loc[(df.is_conspiracy == 1) & (df.PROPN != 0)].shape[0]\n",
    "\n",
    "total_cnsprcy = df.loc[df.is_conspiracy == 1].shape[0]\n",
    "\n",
    "round(cnsprcy_w_propn/total_cnsprcy, 3)"
   ]
  },
  {
   "cell_type": "markdown",
   "metadata": {},
   "source": [
    "**Interpretation:** 81.8 percent of conspiracy posts use proper nouns."
   ]
  },
  {
   "cell_type": "code",
   "execution_count": 199,
   "metadata": {
    "ExecuteTime": {
     "end_time": "2021-05-20T04:21:12.118917Z",
     "start_time": "2021-05-20T04:21:12.106914Z"
    }
   },
   "outputs": [
    {
     "data": {
      "text/plain": [
       "0.453"
      ]
     },
     "execution_count": 199,
     "metadata": {},
     "output_type": "execute_result"
    }
   ],
   "source": [
    "normal_w_propn = df.loc[(df.is_conspiracy == 0) & (df.PROPN != 0)].shape[0]\n",
    "\n",
    "total_normal = df.loc[df.is_conspiracy == 0].shape[0]\n",
    "\n",
    "round(normal_w_propn/total_normal, 3)"
   ]
  },
  {
   "cell_type": "markdown",
   "metadata": {},
   "source": [
    "**Interpretation:** 45.3 percent of 'normal' posts use proper nouns"
   ]
  },
  {
   "cell_type": "code",
   "execution_count": 73,
   "metadata": {
    "ExecuteTime": {
     "end_time": "2021-05-20T02:11:11.377856Z",
     "start_time": "2021-05-20T02:11:11.318843Z"
    }
   },
   "outputs": [
    {
     "data": {
      "text/html": [
       "<div>\n",
       "<style scoped>\n",
       "    .dataframe tbody tr th:only-of-type {\n",
       "        vertical-align: middle;\n",
       "    }\n",
       "\n",
       "    .dataframe tbody tr th {\n",
       "        vertical-align: top;\n",
       "    }\n",
       "\n",
       "    .dataframe thead th {\n",
       "        text-align: right;\n",
       "    }\n",
       "</style>\n",
       "<table border=\"1\" class=\"dataframe\">\n",
       "  <thead>\n",
       "    <tr style=\"text-align: right;\">\n",
       "      <th></th>\n",
       "      <th>count</th>\n",
       "      <th>mean</th>\n",
       "      <th>std</th>\n",
       "      <th>min</th>\n",
       "      <th>25%</th>\n",
       "      <th>50%</th>\n",
       "      <th>75%</th>\n",
       "      <th>max</th>\n",
       "    </tr>\n",
       "    <tr>\n",
       "      <th>is_conspiracy</th>\n",
       "      <th></th>\n",
       "      <th></th>\n",
       "      <th></th>\n",
       "      <th></th>\n",
       "      <th></th>\n",
       "      <th></th>\n",
       "      <th></th>\n",
       "      <th></th>\n",
       "    </tr>\n",
       "  </thead>\n",
       "  <tbody>\n",
       "    <tr>\n",
       "      <th>0</th>\n",
       "      <td>8544.0</td>\n",
       "      <td>0.015677</td>\n",
       "      <td>0.024003</td>\n",
       "      <td>0.0</td>\n",
       "      <td>0.000000</td>\n",
       "      <td>0.000000</td>\n",
       "      <td>0.022727</td>\n",
       "      <td>0.387097</td>\n",
       "    </tr>\n",
       "    <tr>\n",
       "      <th>1</th>\n",
       "      <td>8274.0</td>\n",
       "      <td>0.029998</td>\n",
       "      <td>0.037906</td>\n",
       "      <td>0.0</td>\n",
       "      <td>0.005291</td>\n",
       "      <td>0.018182</td>\n",
       "      <td>0.041757</td>\n",
       "      <td>0.588957</td>\n",
       "    </tr>\n",
       "  </tbody>\n",
       "</table>\n",
       "</div>"
      ],
      "text/plain": [
       "                count      mean       std  min       25%       50%       75%  \\\n",
       "is_conspiracy                                                                  \n",
       "0              8544.0  0.015677  0.024003  0.0  0.000000  0.000000  0.022727   \n",
       "1              8274.0  0.029998  0.037906  0.0  0.005291  0.018182  0.041757   \n",
       "\n",
       "                    max  \n",
       "is_conspiracy            \n",
       "0              0.387097  \n",
       "1              0.588957  "
      ]
     },
     "execution_count": 73,
     "metadata": {},
     "output_type": "execute_result"
    }
   ],
   "source": [
    "df.groupby('is_conspiracy').describe()['PROPN']"
   ]
  },
  {
   "cell_type": "markdown",
   "metadata": {},
   "source": [
    "**Interpretation:** More conspiracy posts use proper nouns and those that do tend to use them with higher frequency."
   ]
  },
  {
   "cell_type": "code",
   "execution_count": 140,
   "metadata": {
    "ExecuteTime": {
     "end_time": "2021-05-21T06:44:40.340001Z",
     "start_time": "2021-05-21T06:44:39.981921Z"
    }
   },
   "outputs": [
    {
     "data": {
      "image/png": "[encoded data removed]",
      "text/plain": [
       "<Figure size 864x432 with 2 Axes>"
      ]
     },
     "metadata": {
      "needs_background": "light"
     },
     "output_type": "display_data"
    }
   ],
   "source": [
    "fig, ax = plt.subplots(1, 2, figsize=(12, 6))\n",
    "\n",
    "ax[0].hist(df.loc[df.is_conspiracy == 1]['PROPN']*100,\n",
    "           bins=40, color='deeppink')\n",
    "ax[0].set_ylim(0, 5500)\n",
    "ax[0].set_xlim(0, 30)\n",
    "ax[0].set_title('Conspiracy Posts', fontsize=18)\n",
    "ax[0].set_xlabel('Percent of Text that is Proper Nouns', fontsize=12)\n",
    "\n",
    "\n",
    "ax[1].hist(df.loc[df.is_conspiracy == 0]['PROPN']*100,\n",
    "           bins=30, color='deepskyblue')\n",
    "ax[1].set_ylim(0, 5500)\n",
    "ax[1].set_xlim(0, 30)\n",
    "ax[1].set_title('Factual Posts', fontsize=18)\n",
    "ax[1].set_xlabel('Percent of Text that is Proper Nouns', fontsize=12)\n",
    "\n",
    "\n",
    "fig.suptitle('Proper Nouns in Text',\n",
    "             fontsize=22, fontweight='bold', y=0.99)\n",
    "fig.tight_layout()\n",
    "\n",
    "fig.savefig('../Pictures/proper_nouns_in_text');"
   ]
  },
  {
   "cell_type": "markdown",
   "metadata": {},
   "source": [
    "a 'pos' appears in --% of cst posts vs --% in eli5 posts"
   ]
  },
  {
   "cell_type": "markdown",
   "metadata": {},
   "source": [
    "**Interpretation:** More conspiracy posts use proper nouns and those that do use them with a higher frequency. My hypothesis is that conspiracy posts tend to make accusations about specific people they believe to be involved in the conspiracy they are describing. What is interesting to me is that while both distributions have positive skew the conspiracy posts have a much cleaner distribution."
   ]
  },
  {
   "cell_type": "code",
   "execution_count": 81,
   "metadata": {
    "ExecuteTime": {
     "end_time": "2021-05-20T20:09:26.047095Z",
     "start_time": "2021-05-20T20:09:25.979079Z"
    }
   },
   "outputs": [
    {
     "data": {
      "text/html": [
       "<div>\n",
       "<style scoped>\n",
       "    .dataframe tbody tr th:only-of-type {\n",
       "        vertical-align: middle;\n",
       "    }\n",
       "\n",
       "    .dataframe tbody tr th {\n",
       "        vertical-align: top;\n",
       "    }\n",
       "\n",
       "    .dataframe thead th {\n",
       "        text-align: right;\n",
       "    }\n",
       "</style>\n",
       "<table border=\"1\" class=\"dataframe\">\n",
       "  <thead>\n",
       "    <tr style=\"text-align: right;\">\n",
       "      <th></th>\n",
       "      <th>count</th>\n",
       "      <th>mean</th>\n",
       "      <th>std</th>\n",
       "      <th>min</th>\n",
       "      <th>25%</th>\n",
       "      <th>50%</th>\n",
       "      <th>75%</th>\n",
       "      <th>max</th>\n",
       "    </tr>\n",
       "    <tr>\n",
       "      <th>is_conspiracy</th>\n",
       "      <th></th>\n",
       "      <th></th>\n",
       "      <th></th>\n",
       "      <th></th>\n",
       "      <th></th>\n",
       "      <th></th>\n",
       "      <th></th>\n",
       "      <th></th>\n",
       "    </tr>\n",
       "  </thead>\n",
       "  <tbody>\n",
       "    <tr>\n",
       "      <th>0</th>\n",
       "      <td>8544.0</td>\n",
       "      <td>0.192179</td>\n",
       "      <td>0.043306</td>\n",
       "      <td>0.0</td>\n",
       "      <td>0.163265</td>\n",
       "      <td>0.193182</td>\n",
       "      <td>0.222222</td>\n",
       "      <td>0.500000</td>\n",
       "    </tr>\n",
       "    <tr>\n",
       "      <th>1</th>\n",
       "      <td>8274.0</td>\n",
       "      <td>0.165888</td>\n",
       "      <td>0.037829</td>\n",
       "      <td>0.0</td>\n",
       "      <td>0.142857</td>\n",
       "      <td>0.164849</td>\n",
       "      <td>0.188406</td>\n",
       "      <td>0.454545</td>\n",
       "    </tr>\n",
       "  </tbody>\n",
       "</table>\n",
       "</div>"
      ],
      "text/plain": [
       "                count      mean       std  min       25%       50%       75%  \\\n",
       "is_conspiracy                                                                  \n",
       "0              8544.0  0.192179  0.043306  0.0  0.163265  0.193182  0.222222   \n",
       "1              8274.0  0.165888  0.037829  0.0  0.142857  0.164849  0.188406   \n",
       "\n",
       "                    max  \n",
       "is_conspiracy            \n",
       "0              0.500000  \n",
       "1              0.454545  "
      ]
     },
     "execution_count": 81,
     "metadata": {},
     "output_type": "execute_result"
    }
   ],
   "source": [
    "df.groupby('is_conspiracy').describe()['NOUN']"
   ]
  },
  {
   "cell_type": "markdown",
   "metadata": {},
   "source": [
    "**Interpretation:** Normal posts tend to use more nouns than conspiracy posts although the difference is not as pronounced as with question marks and proper nouns."
   ]
  },
  {
   "cell_type": "code",
   "execution_count": 141,
   "metadata": {
    "ExecuteTime": {
     "end_time": "2021-05-21T06:44:44.626578Z",
     "start_time": "2021-05-21T06:44:44.237345Z"
    }
   },
   "outputs": [
    {
     "data": {
      "image/png": "[encoded data removed]",
      "text/plain": [
       "<Figure size 864x432 with 2 Axes>"
      ]
     },
     "metadata": {
      "needs_background": "light"
     },
     "output_type": "display_data"
    }
   ],
   "source": [
    "fig, ax = plt.subplots(1, 2, figsize=(12, 6))\n",
    "\n",
    "ax[0].hist(df.loc[df.is_conspiracy == 1]['NOUN']*100,\n",
    "           bins=40, color='deeppink')\n",
    "ax[0].set_ylim(0, 1500)\n",
    "ax[0].set_xlim(0, 40)\n",
    "ax[0].set_title('Conspiracy Posts', fontsize=18)\n",
    "ax[0].set_xlabel('Percent of Text that is Nouns', fontsize=12)\n",
    "\n",
    "\n",
    "\n",
    "ax[1].hist(df.loc[df.is_conspiracy == 0]['NOUN']*100,\n",
    "           bins=40, color='deepskyblue')\n",
    "ax[1].set_ylim(0, 1500)\n",
    "ax[1].set_xlim(0, 40)\n",
    "ax[1].set_title('Factual Posts', fontsize=18)\n",
    "ax[1].set_xlabel('Percent of Text that is Nouns', fontsize=12)\n",
    "\n",
    "\n",
    "fig.suptitle('Nouns in Text',\n",
    "             fontsize=22, fontweight='bold', y=0.99)\n",
    "fig.tight_layout()\n",
    "\n",
    "fig.savefig('../Pictures/nouns_in_text');"
   ]
  },
  {
   "cell_type": "markdown",
   "metadata": {},
   "source": [
    "**Interpretation:** The distribution of noun frequency is much more normal in conspiracy posts. I am not sure what to make of this. It's possible that the conspiracy posts have less unique users and that the normal distribution is a reflection of fewer writing styles. As a next step I would like to look into the number of unique posters per class."
   ]
  }
 ],
 "metadata": {
  "kernelspec": {
   "display_name": "Python 3",
   "language": "python",
   "name": "python3"
  },
  "language_info": {
   "codemirror_mode": {
    "name": "ipython",
    "version": 3
   },
   "file_extension": ".py",
   "mimetype": "text/x-python",
   "name": "python",
   "nbconvert_exporter": "python",
   "pygments_lexer": "ipython3",
   "version": "3.8.5"
  }
 },
 "nbformat": 4,
 "nbformat_minor": 4
}
