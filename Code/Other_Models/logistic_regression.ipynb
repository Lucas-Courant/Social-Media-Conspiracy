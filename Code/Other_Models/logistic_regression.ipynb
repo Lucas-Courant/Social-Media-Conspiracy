{
 "cells": [
  {
   "cell_type": "code",
   "execution_count": 1,
   "metadata": {
    "ExecuteTime": {
     "end_time": "2021-05-21T05:47:44.765996Z",
     "start_time": "2021-05-21T05:47:39.932115Z"
    }
   },
   "outputs": [],
   "source": [
    "import pandas as pd\n",
    "import numpy as np\n",
    "from sklearn.feature_extraction.text import TfidfVectorizer\n",
    "from sklearn.linear_model import LogisticRegression\n",
    "from sklearn.pipeline import Pipeline\n",
    "from sklearn.model_selection import train_test_split, GridSearchCV, cross_val_score, StratifiedKFold\n",
    "import sklearn.metrics as metrics\n",
    "from nltk.stem import PorterStemmer\n",
    "import spacy"
   ]
  },
  {
   "cell_type": "code",
   "execution_count": 2,
   "metadata": {
    "ExecuteTime": {
     "end_time": "2021-05-21T05:47:45.113462Z",
     "start_time": "2021-05-21T05:47:44.766997Z"
    }
   },
   "outputs": [],
   "source": [
    "df = pd.read_csv('../../Data/master_df.csv')"
   ]
  },
  {
   "cell_type": "markdown",
   "metadata": {},
   "source": [
    "this is the baseline accuracy. I need to beat ~50.8% accuracy"
   ]
  },
  {
   "cell_type": "code",
   "execution_count": 4,
   "metadata": {
    "ExecuteTime": {
     "end_time": "2021-05-21T04:06:50.804241Z",
     "start_time": "2021-05-21T04:06:50.789238Z"
    }
   },
   "outputs": [
    {
     "data": {
      "text/plain": [
       "0.49197288619336427"
      ]
     },
     "execution_count": 4,
     "metadata": {},
     "output_type": "execute_result"
    }
   ],
   "source": [
    "df['is_conspiracy'].mean()"
   ]
  },
  {
   "cell_type": "markdown",
   "metadata": {},
   "source": [
    "the `'X'` column has 11996 rows where it is 0. I'm not sure what part of speech it is and will look into it later"
   ]
  },
  {
   "cell_type": "code",
   "execution_count": 6,
   "metadata": {
    "ExecuteTime": {
     "end_time": "2021-05-21T04:07:00.778370Z",
     "start_time": "2021-05-21T04:07:00.752364Z"
    }
   },
   "outputs": [],
   "source": [
    "just_pos = df.drop(columns=['text', 'is_conspiracy', 'X'])\n",
    "\n",
    "y = df['is_conspiracy']\n",
    "X = just_pos\n",
    "X_train, X_test, y_train, y_test = train_test_split(X, y,\n",
    "                                                    stratify = y,\n",
    "                                                    random_state = 42)"
   ]
  },
  {
   "cell_type": "code",
   "execution_count": 7,
   "metadata": {
    "ExecuteTime": {
     "end_time": "2021-05-21T04:07:18.816485Z",
     "start_time": "2021-05-21T04:07:18.799482Z"
    }
   },
   "outputs": [],
   "source": [
    "# data is stratified. shuffle before cross validation\n",
    "folds = StratifiedKFold(shuffle=True, random_state = 42)"
   ]
  },
  {
   "cell_type": "code",
   "execution_count": 145,
   "metadata": {
    "ExecuteTime": {
     "end_time": "2021-05-19T01:50:33.151224Z",
     "start_time": "2021-05-19T01:50:31.548863Z"
    }
   },
   "outputs": [
    {
     "name": "stdout",
     "output_type": "stream",
     "text": [
      "0.7556179314446256 ± 0.009627959874752472\n",
      "[0.76189061 0.76575505 0.7568371  0.75587273 0.73773417]\n"
     ]
    }
   ],
   "source": [
    "# https://www.geeksforgeeks.org/python-format-function/\n",
    "cv_score = cross_val_score(lr, X, y, cv = folds)\n",
    "print('{} \\u00B1 {}'.format(cv_score.mean(), cv_score.std()))\n",
    "print(cv_score)"
   ]
  },
  {
   "cell_type": "code",
   "execution_count": 150,
   "metadata": {
    "ExecuteTime": {
     "end_time": "2021-05-19T01:51:36.767674Z",
     "start_time": "2021-05-19T01:51:36.756671Z"
    }
   },
   "outputs": [
    {
     "data": {
      "text/html": [
       "<div>\n",
       "<style scoped>\n",
       "    .dataframe tbody tr th:only-of-type {\n",
       "        vertical-align: middle;\n",
       "    }\n",
       "\n",
       "    .dataframe tbody tr th {\n",
       "        vertical-align: top;\n",
       "    }\n",
       "\n",
       "    .dataframe thead th {\n",
       "        text-align: right;\n",
       "    }\n",
       "</style>\n",
       "<table border=\"1\" class=\"dataframe\">\n",
       "  <thead>\n",
       "    <tr style=\"text-align: right;\">\n",
       "      <th></th>\n",
       "      <th>0</th>\n",
       "    </tr>\n",
       "  </thead>\n",
       "  <tbody>\n",
       "    <tr>\n",
       "      <th>PROPN</th>\n",
       "      <td>25.518761</td>\n",
       "    </tr>\n",
       "    <tr>\n",
       "      <th>PRON</th>\n",
       "      <td>20.986247</td>\n",
       "    </tr>\n",
       "    <tr>\n",
       "      <th>ADJ</th>\n",
       "      <td>14.860595</td>\n",
       "    </tr>\n",
       "    <tr>\n",
       "      <th>SCONJ</th>\n",
       "      <td>13.527757</td>\n",
       "    </tr>\n",
       "    <tr>\n",
       "      <th>CCONJ</th>\n",
       "      <td>9.925618</td>\n",
       "    </tr>\n",
       "    <tr>\n",
       "      <th>SPACE</th>\n",
       "      <td>8.694940</td>\n",
       "    </tr>\n",
       "    <tr>\n",
       "      <th>ADP</th>\n",
       "      <td>4.978184</td>\n",
       "    </tr>\n",
       "    <tr>\n",
       "      <th>NUM</th>\n",
       "      <td>0.000000</td>\n",
       "    </tr>\n",
       "    <tr>\n",
       "      <th>PART</th>\n",
       "      <td>0.000000</td>\n",
       "    </tr>\n",
       "    <tr>\n",
       "      <th>PUNCT</th>\n",
       "      <td>0.000000</td>\n",
       "    </tr>\n",
       "    <tr>\n",
       "      <th>INTJ</th>\n",
       "      <td>0.000000</td>\n",
       "    </tr>\n",
       "    <tr>\n",
       "      <th>ADV</th>\n",
       "      <td>-5.128262</td>\n",
       "    </tr>\n",
       "    <tr>\n",
       "      <th>AUX</th>\n",
       "      <td>-5.374582</td>\n",
       "    </tr>\n",
       "    <tr>\n",
       "      <th>DET</th>\n",
       "      <td>-6.620864</td>\n",
       "    </tr>\n",
       "    <tr>\n",
       "      <th>VERB</th>\n",
       "      <td>-9.739042</td>\n",
       "    </tr>\n",
       "    <tr>\n",
       "      <th>NOUN</th>\n",
       "      <td>-10.634999</td>\n",
       "    </tr>\n",
       "    <tr>\n",
       "      <th>SYM</th>\n",
       "      <td>-16.779034</td>\n",
       "    </tr>\n",
       "    <tr>\n",
       "      <th>X</th>\n",
       "      <td>-37.845900</td>\n",
       "    </tr>\n",
       "  </tbody>\n",
       "</table>\n",
       "</div>"
      ],
      "text/plain": [
       "               0\n",
       "PROPN  25.518761\n",
       "PRON   20.986247\n",
       "ADJ    14.860595\n",
       "SCONJ  13.527757\n",
       "CCONJ   9.925618\n",
       "SPACE   8.694940\n",
       "ADP     4.978184\n",
       "NUM     0.000000\n",
       "PART    0.000000\n",
       "PUNCT   0.000000\n",
       "INTJ    0.000000\n",
       "ADV    -5.128262\n",
       "AUX    -5.374582\n",
       "DET    -6.620864\n",
       "VERB   -9.739042\n",
       "NOUN  -10.634999\n",
       "SYM   -16.779034\n",
       "X     -37.845900"
      ]
     },
     "execution_count": 150,
     "metadata": {},
     "output_type": "execute_result"
    }
   ],
   "source": [
    "coef_df = pd.DataFrame(lr.coef_,\n",
    "                       columns=X_train.columns)\n",
    "\n",
    "coef_df.T.sort_values(by=0, ascending=False)"
   ]
  },
  {
   "cell_type": "markdown",
   "metadata": {},
   "source": [
    "**Interpretation:** This model has a ~25% increase in accuracy as compared to the baseline. This is great considering the model is only trained on parts of speech. Conspiracy posts tend to use proper nouns, pronouns, and adjectives more. Regular posts tend to use nouns, syms?, and whatever the hell X is."
   ]
  },
  {
   "cell_type": "code",
   "execution_count": 10,
   "metadata": {
    "ExecuteTime": {
     "end_time": "2021-05-18T14:59:11.159950Z",
     "start_time": "2021-05-18T14:59:11.141945Z"
    }
   },
   "outputs": [
    {
     "data": {
      "text/plain": [
       "((16818, 17), (16818, 21))"
      ]
     },
     "execution_count": 10,
     "metadata": {},
     "output_type": "execute_result"
    }
   ],
   "source": [
    "X.shape, df.shape"
   ]
  },
  {
   "cell_type": "code",
   "execution_count": 11,
   "metadata": {
    "ExecuteTime": {
     "end_time": "2021-05-18T14:59:12.108588Z",
     "start_time": "2021-05-18T14:59:12.094585Z"
    }
   },
   "outputs": [],
   "source": [
    "pipe = Pipeline([\n",
    "\n",
    "    ('model', LogisticRegression(max_iter=1000)),\n",
    "])"
   ]
  },
  {
   "cell_type": "code",
   "execution_count": 12,
   "metadata": {
    "ExecuteTime": {
     "end_time": "2021-05-18T14:59:35.380378Z",
     "start_time": "2021-05-18T14:59:12.262035Z"
    },
    "scrolled": true
   },
   "outputs": [
    {
     "data": {
      "text/plain": [
       "GridSearchCV(estimator=Pipeline(steps=[('model',\n",
       "                                        LogisticRegression(max_iter=1000))]),\n",
       "             param_grid={'model__C': [1.0], 'model__penalty': ['l1'],\n",
       "                         'model__solver': ['liblinear']})"
      ]
     },
     "execution_count": 12,
     "metadata": {},
     "output_type": "execute_result"
    }
   ],
   "source": [
    "params = {\n",
    "    'model__penalty': ['l1'],\n",
    "    'model__C': [1.0],\n",
    "    'model__solver': ['liblinear']\n",
    "    \n",
    "}\n",
    "\n",
    "gs = GridSearchCV(pipe, param_grid=params)\n",
    "\n",
    "gs.fit(X_train, y_train)"
   ]
  },
  {
   "cell_type": "code",
   "execution_count": 13,
   "metadata": {
    "ExecuteTime": {
     "end_time": "2021-05-18T14:59:35.395381Z",
     "start_time": "2021-05-18T14:59:35.381379Z"
    }
   },
   "outputs": [
    {
     "data": {
      "text/plain": [
       "{'model__C': 1.0, 'model__penalty': 'l1', 'model__solver': 'liblinear'}"
      ]
     },
     "execution_count": 13,
     "metadata": {},
     "output_type": "execute_result"
    }
   ],
   "source": [
    "gs.best_params_"
   ]
  },
  {
   "cell_type": "code",
   "execution_count": 14,
   "metadata": {
    "ExecuteTime": {
     "end_time": "2021-05-18T14:59:35.411384Z",
     "start_time": "2021-05-18T14:59:35.396382Z"
    }
   },
   "outputs": [
    {
     "data": {
      "text/plain": [
       "0.7272662009119589"
      ]
     },
     "execution_count": 14,
     "metadata": {},
     "output_type": "execute_result"
    }
   ],
   "source": [
    "gs.best_score_"
   ]
  },
  {
   "cell_type": "code",
   "execution_count": 15,
   "metadata": {
    "ExecuteTime": {
     "end_time": "2021-05-18T14:59:35.427388Z",
     "start_time": "2021-05-18T14:59:35.413385Z"
    }
   },
   "outputs": [
    {
     "data": {
      "text/plain": [
       "(0.7414982164090369, 0.7284547688892412)"
      ]
     },
     "execution_count": 15,
     "metadata": {},
     "output_type": "execute_result"
    }
   ],
   "source": [
    "gs.score(X_test, y_test), gs.score(X_train, y_train)"
   ]
  },
  {
   "cell_type": "code",
   "execution_count": 16,
   "metadata": {
    "ExecuteTime": {
     "end_time": "2021-05-18T14:59:35.442766Z",
     "start_time": "2021-05-18T14:59:35.428389Z"
    }
   },
   "outputs": [],
   "source": [
    "lr = LogisticRegression(penalty = 'l1',\n",
    "                        solver='liblinear', max_iter=1000)"
   ]
  },
  {
   "cell_type": "code",
   "execution_count": 17,
   "metadata": {
    "ExecuteTime": {
     "end_time": "2021-05-18T14:59:38.959271Z",
     "start_time": "2021-05-18T14:59:35.443765Z"
    }
   },
   "outputs": [
    {
     "data": {
      "text/plain": [
       "LogisticRegression(max_iter=1000, penalty='l1', solver='liblinear')"
      ]
     },
     "execution_count": 17,
     "metadata": {},
     "output_type": "execute_result"
    }
   ],
   "source": [
    "lr.fit(X_train, y_train)"
   ]
  },
  {
   "cell_type": "code",
   "execution_count": 18,
   "metadata": {
    "ExecuteTime": {
     "end_time": "2021-05-18T14:59:38.974274Z",
     "start_time": "2021-05-18T14:59:38.960271Z"
    }
   },
   "outputs": [
    {
     "data": {
      "text/plain": [
       "0.7414982164090369"
      ]
     },
     "execution_count": 18,
     "metadata": {},
     "output_type": "execute_result"
    }
   ],
   "source": [
    "lr.score(X_test, y_test)"
   ]
  },
  {
   "cell_type": "code",
   "execution_count": 19,
   "metadata": {
    "ExecuteTime": {
     "end_time": "2021-05-18T14:59:38.990278Z",
     "start_time": "2021-05-18T14:59:38.976274Z"
    }
   },
   "outputs": [],
   "source": [
    "coef_df = pd.DataFrame(lr.coef_,\n",
    "                       columns=X_train.columns)"
   ]
  },
  {
   "cell_type": "code",
   "execution_count": 105,
   "metadata": {
    "ExecuteTime": {
     "end_time": "2021-05-18T01:32:56.187186Z",
     "start_time": "2021-05-18T01:32:56.177184Z"
    }
   },
   "outputs": [
    {
     "data": {
      "text/plain": [
       "6.687191289769441e-08"
      ]
     },
     "execution_count": 105,
     "metadata": {},
     "output_type": "execute_result"
    }
   ],
   "source": [
    "np.exp(coef_df['SYM'][0])"
   ]
  },
  {
   "cell_type": "code",
   "execution_count": 92,
   "metadata": {
    "ExecuteTime": {
     "end_time": "2021-05-18T01:30:23.585141Z",
     "start_time": "2021-05-18T01:30:23.570138Z"
    }
   },
   "outputs": [
    {
     "data": {
      "text/plain": [
       "1.0718006016551185"
      ]
     },
     "execution_count": 92,
     "metadata": {},
     "output_type": "execute_result"
    }
   ],
   "source": [
    "np.exp(coef_df['SYM'][0])"
   ]
  }
 ],
 "metadata": {
  "kernelspec": {
   "display_name": "Python 3",
   "language": "python",
   "name": "python3"
  },
  "language_info": {
   "codemirror_mode": {
    "name": "ipython",
    "version": 3
   },
   "file_extension": ".py",
   "mimetype": "text/x-python",
   "name": "python",
   "nbconvert_exporter": "python",
   "pygments_lexer": "ipython3",
   "version": "3.8.5"
  }
 },
 "nbformat": 4,
 "nbformat_minor": 4
}
