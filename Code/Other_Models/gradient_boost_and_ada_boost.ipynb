{
 "cells": [
  {
   "cell_type": "code",
   "execution_count": 2,
   "metadata": {
    "ExecuteTime": {
     "end_time": "2021-05-21T05:47:15.694002Z",
     "start_time": "2021-05-21T05:47:13.704899Z"
    }
   },
   "outputs": [],
   "source": [
    "import pandas as pd\n",
    "from sklearn.model_selection import train_test_split, cross_val_score,\\\n",
    "                                    StratifiedKFold, GridSearchCV\n",
    "from sklearn.ensemble import GradientBoostingClassifier, AdaBoostClassifier\n",
    "from sklearn.inspection import permutation_importance\n",
    "import seaborn as sns\n",
    "import matplotlib.pyplot as plt"
   ]
  },
  {
   "cell_type": "code",
   "execution_count": 4,
   "metadata": {
    "ExecuteTime": {
     "end_time": "2021-05-21T05:47:20.530758Z",
     "start_time": "2021-05-21T05:47:20.265696Z"
    }
   },
   "outputs": [],
   "source": [
    "df = pd.read_csv('../../Data/master_df.csv')"
   ]
  },
  {
   "cell_type": "code",
   "execution_count": 3,
   "metadata": {
    "ExecuteTime": {
     "end_time": "2021-05-20T05:17:27.817870Z",
     "start_time": "2021-05-20T05:17:27.795864Z"
    }
   },
   "outputs": [],
   "source": [
    "just_pos = df.drop(columns=['text', 'is_conspiracy', 'X'])\n",
    "\n",
    "y = df['is_conspiracy']\n",
    "X = just_pos\n",
    "X_train, X_test, y_train, y_test = train_test_split(X, y,\n",
    "                                                    stratify = y,\n",
    "                                                    random_state = 42)"
   ]
  },
  {
   "cell_type": "code",
   "execution_count": 4,
   "metadata": {
    "ExecuteTime": {
     "end_time": "2021-05-20T05:17:32.370834Z",
     "start_time": "2021-05-20T05:17:32.363833Z"
    }
   },
   "outputs": [],
   "source": [
    "folds = StratifiedKFold(shuffle = True, random_state=42)"
   ]
  },
  {
   "cell_type": "code",
   "execution_count": 13,
   "metadata": {
    "ExecuteTime": {
     "end_time": "2021-05-20T05:42:31.633809Z",
     "start_time": "2021-05-20T05:40:12.296157Z"
    }
   },
   "outputs": [
    {
     "data": {
      "text/html": [
       "<div>\n",
       "<style scoped>\n",
       "    .dataframe tbody tr th:only-of-type {\n",
       "        vertical-align: middle;\n",
       "    }\n",
       "\n",
       "    .dataframe tbody tr th {\n",
       "        vertical-align: top;\n",
       "    }\n",
       "\n",
       "    .dataframe thead th {\n",
       "        text-align: right;\n",
       "    }\n",
       "</style>\n",
       "<table border=\"1\" class=\"dataframe\">\n",
       "  <thead>\n",
       "    <tr style=\"text-align: right;\">\n",
       "      <th></th>\n",
       "      <th>params</th>\n",
       "      <th>mean_test_score</th>\n",
       "      <th>std_test_score</th>\n",
       "      <th>mean_train_score</th>\n",
       "      <th>std_train_score</th>\n",
       "    </tr>\n",
       "  </thead>\n",
       "  <tbody>\n",
       "    <tr>\n",
       "      <th>0</th>\n",
       "      <td>{'learning_rate': 0.15, 'max_depth': 2, 'n_est...</td>\n",
       "      <td>0.877333</td>\n",
       "      <td>0.009224</td>\n",
       "      <td>0.886223</td>\n",
       "      <td>0.001001</td>\n",
       "    </tr>\n",
       "    <tr>\n",
       "      <th>1</th>\n",
       "      <td>{'learning_rate': 0.15, 'max_depth': 2, 'n_est...</td>\n",
       "      <td>0.877987</td>\n",
       "      <td>0.009634</td>\n",
       "      <td>0.888973</td>\n",
       "      <td>0.001410</td>\n",
       "    </tr>\n",
       "    <tr>\n",
       "      <th>2</th>\n",
       "      <td>{'learning_rate': 0.15, 'max_depth': 3, 'n_est...</td>\n",
       "      <td>0.881852</td>\n",
       "      <td>0.007936</td>\n",
       "      <td>0.902604</td>\n",
       "      <td>0.002051</td>\n",
       "    </tr>\n",
       "    <tr>\n",
       "      <th>3</th>\n",
       "      <td>{'learning_rate': 0.15, 'max_depth': 3, 'n_est...</td>\n",
       "      <td>0.882744</td>\n",
       "      <td>0.007915</td>\n",
       "      <td>0.905845</td>\n",
       "      <td>0.001352</td>\n",
       "    </tr>\n",
       "    <tr>\n",
       "      <th>4</th>\n",
       "      <td>{'learning_rate': 0.2, 'max_depth': 2, 'n_esti...</td>\n",
       "      <td>0.879533</td>\n",
       "      <td>0.006189</td>\n",
       "      <td>0.890251</td>\n",
       "      <td>0.001813</td>\n",
       "    </tr>\n",
       "    <tr>\n",
       "      <th>5</th>\n",
       "      <td>{'learning_rate': 0.2, 'max_depth': 2, 'n_esti...</td>\n",
       "      <td>0.879236</td>\n",
       "      <td>0.007462</td>\n",
       "      <td>0.893343</td>\n",
       "      <td>0.001619</td>\n",
       "    </tr>\n",
       "    <tr>\n",
       "      <th>6</th>\n",
       "      <td>{'learning_rate': 0.2, 'max_depth': 3, 'n_esti...</td>\n",
       "      <td>0.882387</td>\n",
       "      <td>0.008151</td>\n",
       "      <td>0.908119</td>\n",
       "      <td>0.001373</td>\n",
       "    </tr>\n",
       "    <tr>\n",
       "      <th>7</th>\n",
       "      <td>{'learning_rate': 0.2, 'max_depth': 3, 'n_esti...</td>\n",
       "      <td>0.882862</td>\n",
       "      <td>0.008728</td>\n",
       "      <td>0.912400</td>\n",
       "      <td>0.001302</td>\n",
       "    </tr>\n",
       "  </tbody>\n",
       "</table>\n",
       "</div>"
      ],
      "text/plain": [
       "                                              params  mean_test_score  \\\n",
       "0  {'learning_rate': 0.15, 'max_depth': 2, 'n_est...         0.877333   \n",
       "1  {'learning_rate': 0.15, 'max_depth': 2, 'n_est...         0.877987   \n",
       "2  {'learning_rate': 0.15, 'max_depth': 3, 'n_est...         0.881852   \n",
       "3  {'learning_rate': 0.15, 'max_depth': 3, 'n_est...         0.882744   \n",
       "4  {'learning_rate': 0.2, 'max_depth': 2, 'n_esti...         0.879533   \n",
       "5  {'learning_rate': 0.2, 'max_depth': 2, 'n_esti...         0.879236   \n",
       "6  {'learning_rate': 0.2, 'max_depth': 3, 'n_esti...         0.882387   \n",
       "7  {'learning_rate': 0.2, 'max_depth': 3, 'n_esti...         0.882862   \n",
       "\n",
       "   std_test_score  mean_train_score  std_train_score  \n",
       "0        0.009224          0.886223         0.001001  \n",
       "1        0.009634          0.888973         0.001410  \n",
       "2        0.007936          0.902604         0.002051  \n",
       "3        0.007915          0.905845         0.001352  \n",
       "4        0.006189          0.890251         0.001813  \n",
       "5        0.007462          0.893343         0.001619  \n",
       "6        0.008151          0.908119         0.001373  \n",
       "7        0.008728          0.912400         0.001302  "
      ]
     },
     "execution_count": 13,
     "metadata": {},
     "output_type": "execute_result"
    }
   ],
   "source": [
    "params = {\n",
    "    'learning_rate': [0.15],\n",
    "    'n_estimators': [100],\n",
    "    'max_depth': [2],\n",
    "}\n",
    "\n",
    "gs = GridSearchCV(GradientBoostingClassifier(), param_grid=params,\n",
    "                  cv=folds, return_train_score=True)\n",
    "\n",
    "gs.fit(X, y)"
   ]
  },
  {
   "cell_type": "code",
   "execution_count": 16,
   "metadata": {
    "ExecuteTime": {
     "end_time": "2021-05-20T05:45:25.762549Z",
     "start_time": "2021-05-20T05:45:25.749546Z"
    }
   },
   "outputs": [
    {
     "data": {
      "text/html": [
       "<div>\n",
       "<style scoped>\n",
       "    .dataframe tbody tr th:only-of-type {\n",
       "        vertical-align: middle;\n",
       "    }\n",
       "\n",
       "    .dataframe tbody tr th {\n",
       "        vertical-align: top;\n",
       "    }\n",
       "\n",
       "    .dataframe thead th {\n",
       "        text-align: right;\n",
       "    }\n",
       "</style>\n",
       "<table border=\"1\" class=\"dataframe\">\n",
       "  <thead>\n",
       "    <tr style=\"text-align: right;\">\n",
       "      <th></th>\n",
       "      <th>params</th>\n",
       "      <th>mean_test_score</th>\n",
       "      <th>std_test_score</th>\n",
       "      <th>mean_train_score</th>\n",
       "      <th>std_train_score</th>\n",
       "    </tr>\n",
       "  </thead>\n",
       "  <tbody>\n",
       "    <tr>\n",
       "      <th>0</th>\n",
       "      <td>{'learning_rate': 0.15, 'max_depth': 2, 'n_estimators': 100}</td>\n",
       "      <td>0.877333</td>\n",
       "      <td>0.009224</td>\n",
       "      <td>0.886223</td>\n",
       "      <td>0.001001</td>\n",
       "    </tr>\n",
       "    <tr>\n",
       "      <th>1</th>\n",
       "      <td>{'learning_rate': 0.15, 'max_depth': 2, 'n_estimators': 120}</td>\n",
       "      <td>0.877987</td>\n",
       "      <td>0.009634</td>\n",
       "      <td>0.888973</td>\n",
       "      <td>0.001410</td>\n",
       "    </tr>\n",
       "    <tr>\n",
       "      <th>2</th>\n",
       "      <td>{'learning_rate': 0.15, 'max_depth': 3, 'n_estimators': 100}</td>\n",
       "      <td>0.881852</td>\n",
       "      <td>0.007936</td>\n",
       "      <td>0.902604</td>\n",
       "      <td>0.002051</td>\n",
       "    </tr>\n",
       "    <tr>\n",
       "      <th>3</th>\n",
       "      <td>{'learning_rate': 0.15, 'max_depth': 3, 'n_estimators': 120}</td>\n",
       "      <td>0.882744</td>\n",
       "      <td>0.007915</td>\n",
       "      <td>0.905845</td>\n",
       "      <td>0.001352</td>\n",
       "    </tr>\n",
       "    <tr>\n",
       "      <th>4</th>\n",
       "      <td>{'learning_rate': 0.2, 'max_depth': 2, 'n_estimators': 100}</td>\n",
       "      <td>0.879533</td>\n",
       "      <td>0.006189</td>\n",
       "      <td>0.890251</td>\n",
       "      <td>0.001813</td>\n",
       "    </tr>\n",
       "    <tr>\n",
       "      <th>5</th>\n",
       "      <td>{'learning_rate': 0.2, 'max_depth': 2, 'n_estimators': 120}</td>\n",
       "      <td>0.879236</td>\n",
       "      <td>0.007462</td>\n",
       "      <td>0.893343</td>\n",
       "      <td>0.001619</td>\n",
       "    </tr>\n",
       "    <tr>\n",
       "      <th>6</th>\n",
       "      <td>{'learning_rate': 0.2, 'max_depth': 3, 'n_estimators': 100}</td>\n",
       "      <td>0.882387</td>\n",
       "      <td>0.008151</td>\n",
       "      <td>0.908119</td>\n",
       "      <td>0.001373</td>\n",
       "    </tr>\n",
       "    <tr>\n",
       "      <th>7</th>\n",
       "      <td>{'learning_rate': 0.2, 'max_depth': 3, 'n_estimators': 120}</td>\n",
       "      <td>0.882862</td>\n",
       "      <td>0.008728</td>\n",
       "      <td>0.912400</td>\n",
       "      <td>0.001302</td>\n",
       "    </tr>\n",
       "  </tbody>\n",
       "</table>\n",
       "</div>"
      ],
      "text/plain": [
       "                                                         params  \\\n",
       "0  {'learning_rate': 0.15, 'max_depth': 2, 'n_estimators': 100}   \n",
       "1  {'learning_rate': 0.15, 'max_depth': 2, 'n_estimators': 120}   \n",
       "2  {'learning_rate': 0.15, 'max_depth': 3, 'n_estimators': 100}   \n",
       "3  {'learning_rate': 0.15, 'max_depth': 3, 'n_estimators': 120}   \n",
       "4   {'learning_rate': 0.2, 'max_depth': 2, 'n_estimators': 100}   \n",
       "5   {'learning_rate': 0.2, 'max_depth': 2, 'n_estimators': 120}   \n",
       "6   {'learning_rate': 0.2, 'max_depth': 3, 'n_estimators': 100}   \n",
       "7   {'learning_rate': 0.2, 'max_depth': 3, 'n_estimators': 120}   \n",
       "\n",
       "   mean_test_score  std_test_score  mean_train_score  std_train_score  \n",
       "0         0.877333        0.009224          0.886223         0.001001  \n",
       "1         0.877987        0.009634          0.888973         0.001410  \n",
       "2         0.881852        0.007936          0.902604         0.002051  \n",
       "3         0.882744        0.007915          0.905845         0.001352  \n",
       "4         0.879533        0.006189          0.890251         0.001813  \n",
       "5         0.879236        0.007462          0.893343         0.001619  \n",
       "6         0.882387        0.008151          0.908119         0.001373  \n",
       "7         0.882862        0.008728          0.912400         0.001302  "
      ]
     },
     "execution_count": 16,
     "metadata": {},
     "output_type": "execute_result"
    }
   ],
   "source": [
    "results = pd.DataFrame(gs.cv_results_)\n",
    "results[['params', 'mean_test_score', 'std_test_score',\n",
    "         'mean_train_score', 'std_train_score']]"
   ]
  },
  {
   "cell_type": "code",
   "execution_count": 14,
   "metadata": {
    "ExecuteTime": {
     "end_time": "2021-05-20T05:42:53.950827Z",
     "start_time": "2021-05-20T05:42:53.942825Z"
    }
   },
   "outputs": [
    {
     "name": "stdout",
     "output_type": "stream",
     "text": [
      "0.008890202829362925 {'learning_rate': 0.15, 'max_depth': 2, 'n_estimators': 100} 0\n"
     ]
    }
   ],
   "source": [
    "delta = 100\n",
    "\n",
    "for test, train, i in zip(results.mean_test_score,\n",
    "                          results.mean_train_score,\n",
    "                          results.index):\n",
    "    \n",
    "    if (train - test) < delta:\n",
    "        delta = (train - test)\n",
    "        params = results.params[i]\n",
    "        index = i\n",
    "        \n",
    "print(delta, params, index)"
   ]
  },
  {
   "cell_type": "code",
   "execution_count": 21,
   "metadata": {
    "ExecuteTime": {
     "end_time": "2021-05-20T05:56:31.046161Z",
     "start_time": "2021-05-20T05:56:28.788147Z"
    }
   },
   "outputs": [
    {
     "data": {
      "text/plain": [
       "(0.8763376932223543, 0.8863870609688417)"
      ]
     },
     "execution_count": 21,
     "metadata": {},
     "output_type": "execute_result"
    }
   ],
   "source": [
    "gbc = GradientBoostingClassifier(learning_rate=0.15, max_depth=2,\n",
    "                                 n_estimators=100, random_state=42)\n",
    "gbc.fit(X_train, y_train)\n",
    "gbc.score(X_test, y_test), gbc.score(X_train, y_train)"
   ]
  },
  {
   "cell_type": "markdown",
   "metadata": {},
   "source": [
    "0.8732461355529132) (0.8798858320780147,"
   ]
  },
  {
   "cell_type": "code",
   "execution_count": 25,
   "metadata": {
    "ExecuteTime": {
     "end_time": "2021-05-20T06:03:37.076045Z",
     "start_time": "2021-05-20T06:02:57.209899Z"
    }
   },
   "outputs": [
    {
     "data": {
      "text/plain": [
       "GridSearchCV(cv=StratifiedKFold(n_splits=5, random_state=42, shuffle=True),\n",
       "             estimator=AdaBoostClassifier(),\n",
       "             param_grid={'learning_rate': [0.9, 1.0, 1.1],\n",
       "                         'n_estimators': [40, 50, 60]},\n",
       "             return_train_score=True)"
      ]
     },
     "execution_count": 25,
     "metadata": {},
     "output_type": "execute_result"
    }
   ],
   "source": [
    "params = {\n",
    "    'learning_rate': [0.9, 1.0, 1.1],\n",
    "    'n_estimators': [40, 50, 60],\n",
    "#     'max_depth': [2],\n",
    "}\n",
    "\n",
    "gs = GridSearchCV(AdaBoostClassifier(), param_grid=params,\n",
    "                  cv=folds, return_train_score=True)\n",
    "\n",
    "gs.fit(X, y)"
   ]
  },
  {
   "cell_type": "code",
   "execution_count": 26,
   "metadata": {
    "ExecuteTime": {
     "end_time": "2021-05-20T06:03:37.091049Z",
     "start_time": "2021-05-20T06:03:37.077046Z"
    }
   },
   "outputs": [
    {
     "data": {
      "text/html": [
       "<div>\n",
       "<style scoped>\n",
       "    .dataframe tbody tr th:only-of-type {\n",
       "        vertical-align: middle;\n",
       "    }\n",
       "\n",
       "    .dataframe tbody tr th {\n",
       "        vertical-align: top;\n",
       "    }\n",
       "\n",
       "    .dataframe thead th {\n",
       "        text-align: right;\n",
       "    }\n",
       "</style>\n",
       "<table border=\"1\" class=\"dataframe\">\n",
       "  <thead>\n",
       "    <tr style=\"text-align: right;\">\n",
       "      <th></th>\n",
       "      <th>params</th>\n",
       "      <th>mean_test_score</th>\n",
       "      <th>std_test_score</th>\n",
       "      <th>mean_train_score</th>\n",
       "      <th>std_train_score</th>\n",
       "    </tr>\n",
       "  </thead>\n",
       "  <tbody>\n",
       "    <tr>\n",
       "      <th>0</th>\n",
       "      <td>{'learning_rate': 0.9, 'n_estimators': 40}</td>\n",
       "      <td>0.866511</td>\n",
       "      <td>0.007532</td>\n",
       "      <td>0.869961</td>\n",
       "      <td>0.002650</td>\n",
       "    </tr>\n",
       "    <tr>\n",
       "      <th>1</th>\n",
       "      <td>{'learning_rate': 0.9, 'n_estimators': 50}</td>\n",
       "      <td>0.867641</td>\n",
       "      <td>0.009275</td>\n",
       "      <td>0.872161</td>\n",
       "      <td>0.000861</td>\n",
       "    </tr>\n",
       "    <tr>\n",
       "      <th>2</th>\n",
       "      <td>{'learning_rate': 0.9, 'n_estimators': 60}</td>\n",
       "      <td>0.868235</td>\n",
       "      <td>0.007215</td>\n",
       "      <td>0.872577</td>\n",
       "      <td>0.002097</td>\n",
       "    </tr>\n",
       "    <tr>\n",
       "      <th>3</th>\n",
       "      <td>{'learning_rate': 1.0, 'n_estimators': 40}</td>\n",
       "      <td>0.864549</td>\n",
       "      <td>0.006425</td>\n",
       "      <td>0.869500</td>\n",
       "      <td>0.002837</td>\n",
       "    </tr>\n",
       "    <tr>\n",
       "      <th>4</th>\n",
       "      <td>{'learning_rate': 1.0, 'n_estimators': 50}</td>\n",
       "      <td>0.865857</td>\n",
       "      <td>0.007630</td>\n",
       "      <td>0.871745</td>\n",
       "      <td>0.002231</td>\n",
       "    </tr>\n",
       "    <tr>\n",
       "      <th>5</th>\n",
       "      <td>{'learning_rate': 1.0, 'n_estimators': 60}</td>\n",
       "      <td>0.867878</td>\n",
       "      <td>0.008743</td>\n",
       "      <td>0.873038</td>\n",
       "      <td>0.002046</td>\n",
       "    </tr>\n",
       "    <tr>\n",
       "      <th>6</th>\n",
       "      <td>{'learning_rate': 1.1, 'n_estimators': 40}</td>\n",
       "      <td>0.867106</td>\n",
       "      <td>0.006297</td>\n",
       "      <td>0.870526</td>\n",
       "      <td>0.002886</td>\n",
       "    </tr>\n",
       "    <tr>\n",
       "      <th>7</th>\n",
       "      <td>{'learning_rate': 1.1, 'n_estimators': 50}</td>\n",
       "      <td>0.863835</td>\n",
       "      <td>0.007945</td>\n",
       "      <td>0.871507</td>\n",
       "      <td>0.001976</td>\n",
       "    </tr>\n",
       "    <tr>\n",
       "      <th>8</th>\n",
       "      <td>{'learning_rate': 1.1, 'n_estimators': 60}</td>\n",
       "      <td>0.867106</td>\n",
       "      <td>0.007353</td>\n",
       "      <td>0.873528</td>\n",
       "      <td>0.002469</td>\n",
       "    </tr>\n",
       "  </tbody>\n",
       "</table>\n",
       "</div>"
      ],
      "text/plain": [
       "                                       params  mean_test_score  \\\n",
       "0  {'learning_rate': 0.9, 'n_estimators': 40}         0.866511   \n",
       "1  {'learning_rate': 0.9, 'n_estimators': 50}         0.867641   \n",
       "2  {'learning_rate': 0.9, 'n_estimators': 60}         0.868235   \n",
       "3  {'learning_rate': 1.0, 'n_estimators': 40}         0.864549   \n",
       "4  {'learning_rate': 1.0, 'n_estimators': 50}         0.865857   \n",
       "5  {'learning_rate': 1.0, 'n_estimators': 60}         0.867878   \n",
       "6  {'learning_rate': 1.1, 'n_estimators': 40}         0.867106   \n",
       "7  {'learning_rate': 1.1, 'n_estimators': 50}         0.863835   \n",
       "8  {'learning_rate': 1.1, 'n_estimators': 60}         0.867106   \n",
       "\n",
       "   std_test_score  mean_train_score  std_train_score  \n",
       "0        0.007532          0.869961         0.002650  \n",
       "1        0.009275          0.872161         0.000861  \n",
       "2        0.007215          0.872577         0.002097  \n",
       "3        0.006425          0.869500         0.002837  \n",
       "4        0.007630          0.871745         0.002231  \n",
       "5        0.008743          0.873038         0.002046  \n",
       "6        0.006297          0.870526         0.002886  \n",
       "7        0.007945          0.871507         0.001976  \n",
       "8        0.007353          0.873528         0.002469  "
      ]
     },
     "execution_count": 26,
     "metadata": {},
     "output_type": "execute_result"
    }
   ],
   "source": [
    "results = pd.DataFrame(gs.cv_results_)\n",
    "results[['params', 'mean_test_score', 'std_test_score',\n",
    "         'mean_train_score', 'std_train_score']]"
   ]
  },
  {
   "cell_type": "code",
   "execution_count": null,
   "metadata": {},
   "outputs": [],
   "source": []
  }
 ],
 "metadata": {
  "kernelspec": {
   "display_name": "Python 3",
   "language": "python",
   "name": "python3"
  },
  "language_info": {
   "codemirror_mode": {
    "name": "ipython",
    "version": 3
   },
   "file_extension": ".py",
   "mimetype": "text/x-python",
   "name": "python",
   "nbconvert_exporter": "python",
   "pygments_lexer": "ipython3",
   "version": "3.8.5"
  }
 },
 "nbformat": 4,
 "nbformat_minor": 4
}
