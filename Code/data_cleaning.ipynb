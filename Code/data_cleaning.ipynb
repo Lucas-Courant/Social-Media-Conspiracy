{
 "cells": [
  {
   "cell_type": "code",
   "execution_count": 19,
   "metadata": {
    "ExecuteTime": {
     "end_time": "2021-05-21T05:42:47.854930Z",
     "start_time": "2021-05-21T05:42:47.842917Z"
    }
   },
   "outputs": [],
   "source": [
    "import pandas as pd\n",
    "import numpy as np\n",
    "from matplotlib import pyplot as plt\n",
    "import spacy\n",
    "import matplotlib.pyplot as plt"
   ]
  },
  {
   "cell_type": "markdown",
   "metadata": {},
   "source": [
    "## Overview\n",
    "\n",
    "In this notebook the data from each subreddit is cleaned and merged. Then I extract the part of speech frequency for each post and and save the dataframe to a csv."
   ]
  },
  {
   "cell_type": "code",
   "execution_count": 20,
   "metadata": {
    "ExecuteTime": {
     "end_time": "2021-05-21T05:42:48.402529Z",
     "start_time": "2021-05-21T05:42:48.178473Z"
    }
   },
   "outputs": [
    {
     "data": {
      "text/plain": [
       "((9985, 3), (9071, 3))"
      ]
     },
     "execution_count": 20,
     "metadata": {},
     "output_type": "execute_result"
    }
   ],
   "source": [
    "cst_df = pd.read_csv('../Data/cst_df.csv')\n",
    "eli5_df = pd.read_csv('../Data/eli5_df.csv')\n",
    "\n",
    "cst_df.shape, eli5_df.shape"
   ]
  },
  {
   "cell_type": "markdown",
   "metadata": {},
   "source": [
    "`cst_df` has 214 nulls in the self text column."
   ]
  },
  {
   "cell_type": "code",
   "execution_count": 21,
   "metadata": {
    "ExecuteTime": {
     "end_time": "2021-05-21T05:42:48.512209Z",
     "start_time": "2021-05-21T05:42:48.499207Z"
    }
   },
   "outputs": [],
   "source": [
    "cst_df.dropna(inplace=True)"
   ]
  },
  {
   "cell_type": "markdown",
   "metadata": {},
   "source": [
    "Creating a number of words column will help me remove deleted and short entries."
   ]
  },
  {
   "cell_type": "code",
   "execution_count": 22,
   "metadata": {
    "ExecuteTime": {
     "end_time": "2021-05-21T05:42:49.260931Z",
     "start_time": "2021-05-21T05:42:49.027005Z"
    }
   },
   "outputs": [],
   "source": [
    "cst_df['num_words'] = cst_df.selftext.map(lambda txt: len(txt.split(' ')))\n",
    "eli5_df['num_words'] = eli5_df.selftext.map(lambda txt: len(txt.split(' ')))\n",
    "\n",
    "cst_df = cst_df.loc[cst_df.num_words > 10]\n",
    "\n",
    "eli5_df = eli5_df.loc[eli5_df.num_words > 10]"
   ]
  },
  {
   "cell_type": "code",
   "execution_count": 23,
   "metadata": {
    "ExecuteTime": {
     "end_time": "2021-05-21T05:42:49.670368Z",
     "start_time": "2021-05-21T05:42:49.261932Z"
    }
   },
   "outputs": [
    {
     "data": {
      "image/png": "[encoded data removed]",
      "text/plain": [
       "<Figure size 792x360 with 2 Axes>"
      ]
     },
     "metadata": {
      "needs_background": "light"
     },
     "output_type": "display_data"
    }
   ],
   "source": [
    "fig, ax = plt.subplots(1, 2, figsize=(11,5))\n",
    "\n",
    "ax[0].hist(cst_df['num_words'], bins = 50)\n",
    "ax[0].set_title('CST_DF NUM WORDS HISTOGRAM')\n",
    "\n",
    "ax[1].hist(eli5_df['num_words'], bins = 20)\n",
    "ax[1].set_title('ELI5_DF NUM WORDS HISTOGRAM');"
   ]
  },
  {
   "cell_type": "markdown",
   "metadata": {},
   "source": [
    "**Interpretation:** There are a lot more long posts in the CST subreddit. Because I am looking at frequency of part of speech occurrence and not total occurrence I think I will be okay here. Also I am not using the length of a post as a feature in my model so I do not think outliers here will not affect my model significantly."
   ]
  },
  {
   "cell_type": "code",
   "execution_count": 24,
   "metadata": {
    "ExecuteTime": {
     "end_time": "2021-05-21T05:42:51.884262Z",
     "start_time": "2021-05-21T05:42:51.867202Z"
    }
   },
   "outputs": [],
   "source": [
    "combined_df = pd.concat([cst_df, eli5_df], ignore_index=True)\n",
    "\n",
    "combined_df.rename(columns={'selftext': 'text',\n",
    "                            'created_utc': 'time_posted',\n",
    "                            'target': 'is_conspiracy'},\n",
    "                  inplace=True)\n",
    "\n",
    "combined_df.is_conspiracy = combined_df.is_conspiracy.map({'cst': 1,\n",
    "                                                           'eli5': 0})\n",
    "\n",
    "combined_df.reset_index(inplace=True)"
   ]
  },
  {
   "cell_type": "markdown",
   "metadata": {},
   "source": [
    "I am not interested modeling on post length or time posted for my analysis."
   ]
  },
  {
   "cell_type": "code",
   "execution_count": 18,
   "metadata": {
    "ExecuteTime": {
     "end_time": "2021-05-21T05:41:38.543304Z",
     "start_time": "2021-05-21T05:41:38.523468Z"
    }
   },
   "outputs": [],
   "source": [
    "combined_df.drop(columns=['index', 'time_posted', 'num_words'],\n",
    "                 inplace=True)"
   ]
  },
  {
   "cell_type": "code",
   "execution_count": 61,
   "metadata": {
    "ExecuteTime": {
     "end_time": "2021-05-20T00:59:27.509754Z",
     "start_time": "2021-05-20T00:59:27.085044Z"
    }
   },
   "outputs": [],
   "source": [
    "nlp = spacy.load('en_core_web_sm')"
   ]
  },
  {
   "cell_type": "markdown",
   "metadata": {},
   "source": [
    "I want to get what percentage of the post is any particular part of speech. I also create specific columns for question marks and exclamation marks as well. These columns indicate what percent of _all punctuation_ are question marks and exclamation marks. I decided to uppercase the column names to match the spacey formating for parts of speech names."
   ]
  },
  {
   "cell_type": "code",
   "execution_count": 94,
   "metadata": {
    "ExecuteTime": {
     "end_time": "2021-05-20T04:16:50.960284Z",
     "start_time": "2021-05-20T04:06:08.549050Z"
    }
   },
   "outputs": [],
   "source": [
    "# https://www.geeksforgeeks.org/how-to-count-the-frequency-of-unique-values-in-numpy-array/\n",
    "\n",
    "combined_df['QUESTION_MARKS'] = 0\n",
    "combined_df['EXCLAMATION_MARKS'] = 0\n",
    "\n",
    "for sub, i in zip(combined_df.text, combined_df.index):\n",
    "    \n",
    "    doc = nlp(sub)\n",
    "\n",
    "    pos_lst, freq_lst = np.unique(np.array([word.pos_\n",
    "                                            for word in\n",
    "                                            doc]),\n",
    "                                  return_counts=True)\n",
    "# set part of speech column values\n",
    "    for pos, times_occuring in zip(pos_lst, freq_lst):\n",
    "        \n",
    "        if pos in combined_df.columns:\n",
    "            combined_df.loc[i, pos] = times_occuring/ len(doc)\n",
    "        else:\n",
    "            combined_df[pos] = 0\n",
    "            combined_df.loc[i, pos] = times_occuring/ len(doc)\n",
    "\n",
    "# set question mark and bang frequency column values            \n",
    "        if pos == 'PUNCT':\n",
    "            qmark_count = 0\n",
    "            bang_count = 0\n",
    "\n",
    "            for token in doc:\n",
    "                if token.text == '?':\n",
    "                    qmark_count += 1\n",
    "\n",
    "                if token.text == '!':\n",
    "                    bang_count += 1\n",
    "\n",
    "# times occuring is the total number of punctuation marks\n",
    "            combined_df.loc[i, 'QUESTION_MARKS'] = qmark_count/times_occuring\n",
    "            combined_df.loc[i, 'EXCLAMATION_MARKS'] = bang_count/times_occuring"
   ]
  },
  {
   "cell_type": "code",
   "execution_count": 99,
   "metadata": {
    "ExecuteTime": {
     "end_time": "2021-05-20T05:08:27.874864Z",
     "start_time": "2021-05-20T05:08:26.446666Z"
    }
   },
   "outputs": [],
   "source": [
    "cst_df.to_csv('../Data/clean_cst_df.csv', index=False)\n",
    "eli5_df.to_csv('../Data/clean_eli5_df.csv', index=False)\n",
    "combined_df.to_csv('../Data/master_df.csv', index=False)"
   ]
  },
  {
   "cell_type": "markdown",
   "metadata": {},
   "source": [
    "## Next Step\n",
    "\n",
    "Next I fit numerous classification models on this data. The model that performed the best is the random forest classifier. My results and conclusions are in that notebook. All other models are contained in the folder 'other models'"
   ]
  }
 ],
 "metadata": {
  "kernelspec": {
   "display_name": "Python 3",
   "language": "python",
   "name": "python3"
  },
  "language_info": {
   "codemirror_mode": {
    "name": "ipython",
    "version": 3
   },
   "file_extension": ".py",
   "mimetype": "text/x-python",
   "name": "python",
   "nbconvert_exporter": "python",
   "pygments_lexer": "ipython3",
   "version": "3.8.5"
  }
 },
 "nbformat": 4,
 "nbformat_minor": 4
}
